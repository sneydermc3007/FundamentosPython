{
 "cells":[
  {
   "cell_type":"markdown",
   "source":[
    "# Los metodos islower(), lower(), isupper() y upper()"
   ],
   "attachments":{
    
   },
   "metadata":{
    "datalore":{
     "node_id":"HyklVxcDVlSL8cn89dhCQT",
     "type":"MD",
     "hide_input_from_viewers":false,
     "hide_output_from_viewers":false
    }
   }
  },
  {
   "cell_type":"code",
   "source":[
    "string = input(\"Introduce un String:\")\n",
    "\n",
    "print(f\"\\n¿Todas las letras están en minúsculas?: {string.islower()}\")\n",
    "string = string.lower()\n",
    "print(f\"String en minúsculas: {string}\")\n",
    "\n",
    "print(f\"\\n¿Todas las letras están en mayúsculas?: {string.isupper()}\")\n",
    "print(f\"String en mayúsculas: {string.upper()}\")\n",
    "print(f\"String origianl: {string}\")"
   ],
   "execution_count":1,
   "outputs":[
    {
     "name":"stdout",
     "text":[
      "Introduce un String: Hi\n",
      "\n",
      "¿Todas las letras están en minúsculas?: False\n",
      "String en minúsculas: hi\n",
      "\n",
      "¿Todas las letras están en mayúsculas?: False\n",
      "String en mayúsculas: HI\n",
      "String origianl: hi\n"
     ],
     "output_type":"stream"
    }
   ],
   "metadata":{
    "datalore":{
     "node_id":"w3OSZR22qykGzclskFLW3X",
     "type":"CODE",
     "hide_input_from_viewers":false,
     "hide_output_from_viewers":false
    }
   }
  },
  {
   "cell_type":"markdown",
   "source":[
    "# swapcase"
   ],
   "attachments":{
    
   },
   "metadata":{
    "datalore":{
     "node_id":"wW8Hi0jUfQHUI5PcdXMydV",
     "type":"MD",
     "hide_input_from_viewers":false,
     "hide_output_from_viewers":false
    }
   }
  },
  {
   "cell_type":"code",
   "source":[
    "txt_lower_upper = \"lA gEEKIPEDIA\"\n",
    "print(txt_lower_upper.swapcase())\n",
    "\n",
    "txt_upper = \"CADENA DE MAYÚSCULAS\"\n",
    "print(txt_upper.swapcase())\n",
    "\n",
    "txt_lower = \"cadena con minúsculas\"\n",
    "print(txt_lower.swapcase())\n",
    "\n",
    "txt_number = \"1234!-*\"\n",
    "print(txt_number)\n",
    "\n",
    "print()\n",
    "print(txt_lower_upper)\n",
    "print(txt_upper)\n",
    "print(txt_lower)\n",
    "print(txt_number)"
   ],
   "execution_count":2,
   "outputs":[
    {
     "name":"stdout",
     "text":[
      "La Geekipedia\n",
      "cadena de mayúsculas\n",
      "CADENA CON MINÚSCULAS\n",
      "1234!-*\n",
      "\n",
      "lA gEEKIPEDIA\n",
      "CADENA DE MAYÚSCULAS\n",
      "cadena con minúsculas\n",
      "1234!-*\n"
     ],
     "output_type":"stream"
    }
   ],
   "metadata":{
    "datalore":{
     "node_id":"IzxoEr4LYLEv7YPAzAqcC0",
     "type":"CODE",
     "hide_input_from_viewers":false,
     "hide_output_from_viewers":false
    }
   }
  },
  {
   "cell_type":"markdown",
   "source":[
    "# metodo capitalize"
   ],
   "attachments":{
    
   },
   "metadata":{
    "datalore":{
     "node_id":"qqZVsF9z4hawQZ8But7bWm",
     "type":"MD",
     "hide_input_from_viewers":false,
     "hide_output_from_viewers":false
    }
   }
  },
  {
   "cell_type":"code",
   "source":[
    "string = \"eL VIAJE eS la RecoMpensa\"\n",
    "\n",
    "print(f\"Antes de capitalize(): {string}\")\n",
    "string = string.capitalize()\n",
    "print(f\"Después de capitalize(): {string}\")"
   ],
   "execution_count":3,
   "outputs":[
    {
     "name":"stdout",
     "text":[
      "Antes de capitalize(): eL VIAJE eS la RecoMpensa\n",
      "Después de capitalize(): El viaje es la recompensa\n"
     ],
     "output_type":"stream"
    }
   ],
   "metadata":{
    "datalore":{
     "node_id":"AXgK102LyCoqIdgwukV5vN",
     "type":"CODE",
     "hide_input_from_viewers":false,
     "hide_output_from_viewers":false
    }
   }
  }
 ],
 "metadata":{
  "kernelspec":{
   "display_name":"Python",
   "language":"python",
   "name":"python"
  },
  "datalore":{
   "version":1,
   "computation_mode":"JUPYTER",
   "package_manager":"pip",
   "base_environment":"default",
   "packages":[
    
   ]
  }
 },
 "nbformat":4,
 "nbformat_minor":4
}