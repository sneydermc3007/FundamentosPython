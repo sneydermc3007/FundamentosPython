{
 "cells":[
  {
   "cell_type":"markdown",
   "source":[
    "# Constructor list()\n",
    "\n",
    "## Convertir objetos a listas"
   ],
   "attachments":{
    
   },
   "metadata":{
    "datalore":{
     "node_id":"2LQfTkHARzyMme4TIepYkr",
     "type":"MD",
     "hide_input_from_viewers":true,
     "hide_output_from_viewers":true
    }
   }
  },
  {
   "cell_type":"code",
   "source":[
    "print(range(0,100,10))\n",
    "\n",
    "numeros = range(0,100,10)\n",
    "print(numeros)\n",
    "\n",
    "print( list(range(0,100,10)) )\n",
    "\n",
    "nombre = \"Ernesto\"\n",
    "print(list(nombre))\n",
    "\n",
    "lista_nombres = list(nombre)\n",
    "print(lista_nombres[::-1])\n",
    "\n",
    "print(list())"
   ],
   "execution_count":1,
   "outputs":[
    {
     "name":"stdout",
     "text":[
      "range(0, 100, 10)\n",
      "range(0, 100, 10)\n",
      "[0, 10, 20, 30, 40, 50, 60, 70, 80, 90]\n",
      "['E', 'r', 'n', 'e', 's', 't', 'o']\n",
      "['o', 't', 's', 'e', 'n', 'r', 'E']\n",
      "[]\n"
     ],
     "output_type":"stream"
    }
   ],
   "metadata":{
    "datalore":{
     "node_id":"YXV1wHffuMJKLh630Q2Tju",
     "type":"CODE",
     "hide_input_from_viewers":true,
     "hide_output_from_viewers":true
    }
   }
  },
  {
   "cell_type":"markdown",
   "source":[
    "# Listas anidadas"
   ],
   "attachments":{
    
   },
   "metadata":{
    "datalore":{
     "node_id":"OIe4Uj1pifbVow2XE0WLVu",
     "type":"MD",
     "hide_input_from_viewers":true,
     "hide_output_from_viewers":true
    }
   }
  },
  {
   "cell_type":"code",
   "source":[
    "lista = [1, \"a\", True, [1, 2, [\"f\", \"g\", \"h\"]]]\n",
    "print(lista)\n",
    "\n",
    "print(lista[0])\n",
    "print(lista[3][1])\n",
    "print(lista[3][2][1])"
   ],
   "execution_count":2,
   "outputs":[
    {
     "name":"stdout",
     "text":[
      "[1, 'a', True, [1, 2, ['f', 'g', 'h']]]\n",
      "1\n",
      "2\n",
      "g\n"
     ],
     "output_type":"stream"
    }
   ],
   "metadata":{
    "datalore":{
     "node_id":"rrQ6eskQQHufPOaFOLHRB5",
     "type":"CODE",
     "hide_input_from_viewers":true,
     "hide_output_from_viewers":true
    }
   }
  },
  {
   "cell_type":"markdown",
   "source":[
    "# Matrices con listas anidadas"
   ],
   "attachments":{
    
   },
   "metadata":{
    "datalore":{
     "node_id":"oL4fX6zWV9eExOKc9ssrlv",
     "type":"MD",
     "hide_input_from_viewers":true,
     "hide_output_from_viewers":true
    }
   }
  },
  {
   "cell_type":"code",
   "source":[
    "matrix = [[1, 2, 3],\n",
    "          [4, 5, 6],\n",
    "          [7, 8, 9]]\n",
    "\n",
    "print(f\"{matrix[0]} \\n{matrix[1]} \\n{matrix[2]}\")\n",
    "\n",
    "# Mostrar el número 1\n",
    "print(matrix[0][0])\n",
    "\n",
    "# Mostrar el número 4\n",
    "print(matrix[1][0])\n",
    "\n",
    "# Mostrar el número 8\n",
    "print(matrix[2][1])\n",
    "\n",
    "# Mostrar el número 3\n",
    "print(matrix[0][2])"
   ],
   "execution_count":3,
   "outputs":[
    {
     "name":"stdout",
     "text":[
      "[1, 2, 3] \n",
      "[4, 5, 6] \n",
      "[7, 8, 9]\n",
      "1\n",
      "4\n",
      "8\n",
      "3\n"
     ],
     "output_type":"stream"
    }
   ],
   "metadata":{
    "datalore":{
     "node_id":"PhJXogMqNvpsfub9ILZhW3",
     "type":"CODE",
     "hide_input_from_viewers":true,
     "hide_output_from_viewers":true
    }
   }
  },
  {
   "cell_type":"markdown",
   "source":[
    "# Matrices con ciclo for"
   ],
   "attachments":{
    
   },
   "metadata":{
    "datalore":{
     "node_id":"swIJcN12NoekXIjq9D8C8I",
     "type":"MD",
     "hide_input_from_viewers":true,
     "hide_output_from_viewers":true
    }
   }
  },
  {
   "cell_type":"code",
   "source":[
    "matrix = [[1, 2, 3],\n",
    "          [4, 5, 6],\n",
    "          [7, 8, 9]]\n",
    "\n",
    "print(\"Mostrar todos los elementos de la matriz fila por fila\")\n",
    "for row in matrix:\n",
    "    print(row)\n",
    "\n",
    "print(\"Mostrar todos los elementos de la matriz elemento a elemento en columna\")\n",
    "for row in matrix:\n",
    "    for element in row:\n",
    "        print(element)\n",
    "\n",
    "print(\"Mostrar todos los elementos de una matriz en formato de matriz\")\n",
    "for row in matrix:\n",
    "    for element in row:\n",
    "        print(element, end=\" \")\n",
    "    print()"
   ],
   "execution_count":6,
   "outputs":[
    {
     "name":"stdout",
     "text":[
      "Mostrar todos los elementos de la matriz fila por fila\n",
      "[1, 2, 3]\n",
      "[4, 5, 6]\n",
      "[7, 8, 9]\n",
      "Mostrar todos los elementos de la matriz elemento a elemento en columna\n",
      "1\n",
      "2\n",
      "3\n",
      "4\n",
      "5\n",
      "6\n",
      "7\n",
      "8\n",
      "9\n",
      "Mostrar todos los elementos de una matriz en formato de matriz\n",
      "1 2 3 \n",
      "4 5 6 \n",
      "7 8 9 \n"
     ],
     "output_type":"stream"
    }
   ],
   "metadata":{
    "datalore":{
     "node_id":"MLzfSmU7Qh5N4Pf1aLXlPb",
     "type":"CODE",
     "hide_input_from_viewers":true,
     "hide_output_from_viewers":true
    }
   }
  },
  {
   "cell_type":"markdown",
   "source":[
    "# Suma de matrices"
   ],
   "attachments":{
    
   },
   "metadata":{
    "datalore":{
     "node_id":"qMM9z63c95eZ6L19xqqwJr",
     "type":"MD",
     "hide_input_from_viewers":true,
     "hide_output_from_viewers":true
    }
   }
  },
  {
   "cell_type":"code",
   "source":[
    "matrix_a = [[1, 2, 3],\n",
    "            [4, 5, 6],\n",
    "            [7, 8, 9]]\n",
    "\n",
    "matrix_b = [[1, 2, 3],\n",
    "            [4, 1, 2],\n",
    "            [1, 1, 0]]\n",
    "\n",
    "matrix_c = []\n",
    "for row in range(len(matrix_a)):\n",
    "    new_row = []\n",
    "    for column in range(len(matrix_a[0])):\n",
    "        new_row.append(matrix_a[row][column] + matrix_b[row][column])\n",
    "    matrix_c.append(new_row)\n",
    "\n",
    "for row in range(len(matrix_a)):\n",
    "    if row != 1:\n",
    "        print(f\"{matrix_a[row]}   {matrix_b[row]}   {matrix_c[row]}\")\n",
    "    else:\n",
    "        print(f\"{matrix_a[row]} + {matrix_b[row]} = {matrix_c[row]}\")"
   ],
   "execution_count":7,
   "outputs":[
    {
     "name":"stdout",
     "text":[
      "[1, 2, 3]   [1, 2, 3]   [2, 4, 6]\n",
      "[4, 5, 6] + [4, 1, 2] = [8, 6, 8]\n",
      "[7, 8, 9]   [1, 1, 0]   [8, 9, 9]\n"
     ],
     "output_type":"stream"
    }
   ],
   "metadata":{
    "datalore":{
     "node_id":"v7DL1b8b7ktVkyXUfP6jNq",
     "type":"CODE",
     "hide_input_from_viewers":true,
     "hide_output_from_viewers":true
    }
   }
  },
  {
   "cell_type":"markdown",
   "source":[
    "# Diccionario"
   ],
   "attachments":{
    
   },
   "metadata":{
    "datalore":{
     "node_id":"U4ZRm8LQYhimJne35kf0tO",
     "type":"MD",
     "hide_input_from_viewers":true,
     "hide_output_from_viewers":true
    }
   }
  },
  {
   "cell_type":"code",
   "source":[
    "# Diccionario vacío\n",
    "dictionary_empty = {}\n",
    "\n",
    "print(f\"Diccionario vacío: {dictionary_empty}\")\n",
    "print()\n",
    "\n",
    "# Diccionario homogéneo\n",
    "dictionary_ages = {\"Juan\": 32,\n",
    "                   \"Gerardo\": 21,\n",
    "                   \"Luis\": 25\n",
    "                   }\n",
    "\n",
    "print(f\"Diccionario de edades: {dictionary_ages}\")\n",
    "print()\n",
    "\n",
    "# Diccionario heterogéneo\n",
    "dictionary_dates = {\"name\": \"Brenda\",\n",
    "                    \"last_name\": \"Flores\",\n",
    "                    \"age\": 22\n",
    "                    }\n",
    "\n",
    "print(f\"Diccionario de edades: {dictionary_dates}\")\n",
    "print()\n",
    "\n",
    "# Un diccionario puede almacenar listas y diccionarios\n",
    "dictionary_list = {\"a\": {\"a\": 1},\n",
    "                   \"b\": [0, 1, 2]\n",
    "                   }\n",
    "\n",
    "print(f\"Diccionario con lista y diccionario: {dictionary_list}\")\n",
    "print()\n",
    "\n",
    "# Un diccionario puede tener claves numéricas\n",
    "dictionary_keys_num = {4: 1,\n",
    "                       5: 2,\n",
    "                       6: 3\n",
    "                       }\n",
    "\n",
    "print(f\"Diccionario con claves numéricas {dictionary_keys_num}\")\n",
    "print()\n",
    "\n",
    "# Un diccionario no puede tener claves repetidas\n",
    "dictionary_repeated_keys = {\"Juan\": 20,\n",
    "                            \"Gerardo\": 30,\n",
    "                            \"Juan\": 15\n",
    "                            }\n",
    "\n",
    "print(f\"Diccionario con claves repetidas: {dictionary_repeated_keys}\")\n",
    "print()\n",
    "\n",
    "# Un diccionario puede tener claves numéricas o de tipo texto\n",
    "dictionary = {1: 23,\n",
    "              \"Juan\": 5,\n",
    "              -2: \"hola\"\n",
    "              }\n",
    "\n",
    "print(f\"Diccionario con claves de distintos tipos de dato: {dictionary}\")"
   ],
   "execution_count":8,
   "outputs":[
    {
     "name":"stdout",
     "text":[
      "Diccionario vacío: {}\n",
      "\n",
      "Diccionario de edades: {'Juan': 32, 'Gerardo': 21, 'Luis': 25}\n",
      "\n",
      "Diccionario de edades: {'name': 'Brenda', 'last_name': 'Flores', 'age': 22}\n",
      "\n",
      "Diccionario con lista y diccionario: {'a': {'a': 1}, 'b': [0, 1, 2]}\n",
      "\n",
      "Diccionario con claves numéricas {4: 1, 5: 2, 6: 3}\n",
      "\n",
      "Diccionario con claves repetidas: {'Juan': 15, 'Gerardo': 30}\n",
      "\n",
      "Diccionario con claves de distintos tipos de dato: {1: 23, 'Juan': 5, -2: 'hola'}\n"
     ],
     "output_type":"stream"
    }
   ],
   "metadata":{
    "datalore":{
     "node_id":"DMUeGpI42N3fH3Vu7DQCtM",
     "type":"CODE",
     "hide_input_from_viewers":true,
     "hide_output_from_viewers":true
    }
   }
  }
 ],
 "metadata":{
  "kernelspec":{
   "display_name":"Python",
   "language":"python",
   "name":"python"
  },
  "datalore":{
   "computation_mode":"JUPYTER",
   "package_manager":"pip",
   "base_environment":"default",
   "packages":[
    
   ],
   "report_row_ids":[
    
   ],
   "version":3
  }
 },
 "nbformat":4,
 "nbformat_minor":4
}