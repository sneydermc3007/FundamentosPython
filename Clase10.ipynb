{
 "cells":[
  {
   "cell_type":"markdown",
   "source":[
    "# Metodo append"
   ],
   "attachments":{
    
   },
   "metadata":{
    "datalore":{
     "node_id":"f2k1QfbXLYJPlQMtQoLJSF",
     "type":"MD",
     "hide_input_from_viewers":true,
     "hide_output_from_viewers":true
    }
   }
  },
  {
   "cell_type":"code",
   "source":[
    "print(\"Agregando un elemento a la lista\")\n",
    "letters = [\"a\", \"b\", \"c\", \"d\"]\n",
    "print(f\"Lista: {letters}\")\n",
    "letters.append(\"e\")\n",
    "print(f\"Lista: {letters}\")\n",
    "\n",
    "print(\"\\nAgregando tres elementos a la lista\")\n",
    "letters = [\"a\", \"b\", \"c\", \"d\"]\n",
    "print(f\"Lista: {letters}\")\n",
    "letters.append(\"e\")\n",
    "letters.append(\"f\")\n",
    "letters.append(\"g\")\n",
    "print(f\"Lista: {letters}\")\n",
    "\n",
    "print(\"\\nAgregando tres elementos de distinto tipo de dato a la lista\")\n",
    "letters = [\"a\", \"b\", \"c\", \"d\"]\n",
    "print(f\"Lista: {letters}\")\n",
    "letters.append(5)\n",
    "letters.append(2.3)\n",
    "letters.append(True)\n",
    "print(f\"Lista: {letters}\")"
   ],
   "execution_count":1,
   "outputs":[
    {
     "name":"stdout",
     "text":[
      "Agregando un elemento a la lista\n",
      "Lista: ['a', 'b', 'c', 'd']\n",
      "Lista: ['a', 'b', 'c', 'd', 'e']\n",
      "\n",
      "Agregando tres elementos a la lista\n",
      "Lista: ['a', 'b', 'c', 'd']\n",
      "Lista: ['a', 'b', 'c', 'd', 'e', 'f', 'g']\n",
      "\n",
      "Agregando tres elementos de distinto tipo de dato a la lista\n",
      "Lista: ['a', 'b', 'c', 'd']\n",
      "Lista: ['a', 'b', 'c', 'd', 5, 2.3, True]\n"
     ],
     "output_type":"stream"
    }
   ],
   "metadata":{
    "datalore":{
     "node_id":"dxaA6yrEKnEIbD5U6vdezO",
     "type":"CODE",
     "hide_input_from_viewers":true,
     "hide_output_from_viewers":true
    }
   }
  },
  {
   "cell_type":"markdown",
   "source":[
    "# Metodo sort"
   ],
   "attachments":{
    
   },
   "metadata":{
    "datalore":{
     "node_id":"AueMYkfFIdpi2S3sL8rCjx",
     "type":"MD",
     "hide_input_from_viewers":true,
     "hide_output_from_viewers":true
    }
   }
  },
  {
   "cell_type":"code",
   "source":[
    "numeros = [5, 3, 1, 2, 4]\n",
    "vocales = [\"o\", \"u\", \"a\", \"i\", \"e\"]\n",
    "\n",
    "print(f\"Lista números: {numeros}\")\n",
    "\n",
    "numeros.sort()\n",
    "print(f\"\\nLista números: {numeros}\")\n",
    "\n",
    "numeros.sort(reverse = True)\n",
    "print(f\"\\nLista números: {numeros}\")\n",
    "\n",
    "# Lista vocales\n",
    "\n",
    "print(f\"\\nLista vocales: {vocales}\")\n",
    "\n",
    "vocales.sort()\n",
    "print(f\"\\nLista vocales: {vocales}\")\n",
    "\n",
    "vocales.sort(reverse = True)\n",
    "print(f\"\\nLista vocales: {vocales}\")"
   ],
   "execution_count":2,
   "outputs":[
    {
     "name":"stdout",
     "text":[
      "Lista números: [5, 3, 1, 2, 4]\n",
      "\n",
      "Lista números: [1, 2, 3, 4, 5]\n",
      "\n",
      "Lista números: [5, 4, 3, 2, 1]\n",
      "\n",
      "Lista vocales: ['o', 'u', 'a', 'i', 'e']\n",
      "\n",
      "Lista vocales: ['a', 'e', 'i', 'o', 'u']\n",
      "\n",
      "Lista vocales: ['u', 'o', 'i', 'e', 'a']\n"
     ],
     "output_type":"stream"
    }
   ],
   "metadata":{
    "datalore":{
     "node_id":"9vmLyOctrRiZZKLJRy2du4",
     "type":"CODE",
     "hide_input_from_viewers":true,
     "hide_output_from_viewers":true
    }
   }
  },
  {
   "cell_type":"markdown",
   "source":[
    "# Metodo index"
   ],
   "attachments":{
    
   },
   "metadata":{
    "datalore":{
     "node_id":"NO9NCL0o0yGgG6gSbHN8l7",
     "type":"MD",
     "hide_input_from_viewers":true,
     "hide_output_from_viewers":true
    }
   }
  },
  {
   "cell_type":"code",
   "source":[
    "vocales = [\"a\", \"e\", \"i\", \"o\", \"u\", \"a\"]\n",
    "\n",
    "print(f\"Lista: {vocales}\")\n",
    "print(f\"La letra a esta en la posición: {vocales.index('a')}\")\n",
    "print(f\"La letra i esta en la posición: {vocales.index('i')}\")\n",
    "print(f\"La letra u en el rango 2-final esta en la posición: {vocales.index('u', 2)}\")\n",
    "print(f\"La letra i en el rango 2-4 esta en la posición: {vocales.index('i', 2, 4)}\")\n",
    "\n",
    "print(f\"La letra u en el rango 2-5 esta en la posición: {vocales.index('u', 2, 5)}\")"
   ],
   "execution_count":5,
   "outputs":[
    {
     "name":"stdout",
     "text":[
      "Lista: ['a', 'e', 'i', 'o', 'u', 'a']\n",
      "La letra a esta en la posición: 0\n",
      "La letra i esta en la posición: 2\n",
      "La letra u en el rango 2-final esta en la posición: 4\n",
      "La letra i en el rango 2-4 esta en la posición: 2\n",
      "La letra u en el rango 2-5 esta en la posición: 4\n"
     ],
     "output_type":"stream"
    }
   ],
   "metadata":{
    "datalore":{
     "node_id":"LNIRMY6tNrZB9IdzvXgNjZ",
     "type":"CODE",
     "hide_input_from_viewers":true,
     "hide_output_from_viewers":true
    }
   }
  },
  {
   "cell_type":"markdown",
   "source":[
    "# Metodo extend"
   ],
   "attachments":{
    
   },
   "metadata":{
    "datalore":{
     "node_id":"CLFJJvs7jSlR7OMd4mL1bM",
     "type":"MD",
     "hide_input_from_viewers":true,
     "hide_output_from_viewers":true
    }
   }
  },
  {
   "cell_type":"code",
   "source":[
    "invitados = [\"Carolina\", \"Juan\", \"Gerardo\"]\n",
    "amigos = [\"Luis\", \"Ana\"]\n",
    "print(f\"Lista invitados: {invitados} \\nLista amigos: {amigos}\")\n",
    "invitados.extend(amigos)\n",
    "print(f\"Lista invitados: {invitados}\")\n",
    "\n",
    "numeros = [10, 20]\n",
    "print(f\"\\nLista números: {numeros}\")\n",
    "numeros.extend(range(30, 100, 10))\n",
    "print(f\"Lista números: {numeros}\")"
   ],
   "execution_count":6,
   "outputs":[
    {
     "name":"stdout",
     "text":[
      "Lista invitados: ['Carolina', 'Juan', 'Gerardo'] \n",
      "Lista amigos: ['Luis', 'Ana']\n",
      "Lista invitados: ['Carolina', 'Juan', 'Gerardo', 'Luis', 'Ana']\n",
      "\n",
      "Lista números: [10, 20]\n",
      "Lista números: [10, 20, 30, 40, 50, 60, 70, 80, 90]\n"
     ],
     "output_type":"stream"
    }
   ],
   "metadata":{
    "datalore":{
     "node_id":"KYy6Az8l3MkZhJZzFOBSQk",
     "type":"CODE",
     "hide_input_from_viewers":true,
     "hide_output_from_viewers":true
    }
   }
  },
  {
   "cell_type":"markdown",
   "source":[
    "# Metodo sum"
   ],
   "attachments":{
    
   },
   "metadata":{
    "datalore":{
     "node_id":"EadWXL0b6HQ2JEwxCIuDuH",
     "type":"MD",
     "hide_input_from_viewers":true,
     "hide_output_from_viewers":true
    }
   }
  },
  {
   "cell_type":"code",
   "source":[
    "numeros = [1, 2, 3]\n",
    "print(numeros)\n",
    "print(sum(numeros))\n",
    "\n",
    "numeros = [1, 2, 3]\n",
    "print(f\"\\nCon valor inicial: 10 \\n{numeros}\")\n",
    "print(sum(numeros, 10))\n",
    "\n",
    "numeros = [1, 2, 3]\n",
    "print(f\"\\nCon valor inicial: -2 \\n{numeros}\")\n",
    "print(sum(numeros, -2))\n",
    "\n",
    "numeros = [1, 2.5, True]\n",
    "print(f\"\\n{numeros}\")\n",
    "print(sum(numeros))\n",
    "\n",
    "lista = [1, 2, \"1\"]\n",
    "print(sum(lista))"
   ],
   "execution_count":10,
   "outputs":[
    {
     "name":"stdout",
     "text":[
      "[1, 2, 3]\n",
      "6\n",
      "\n",
      "Con valor inicial: 10 \n",
      "[1, 2, 3]\n",
      "16\n",
      "\n",
      "Con valor inicial: -2 \n",
      "[1, 2, 3]\n",
      "4\n",
      "\n",
      "[1, 2.5, True]\n",
      "4.5\n"
     ],
     "output_type":"stream"
    },
    {
     "ename":"TypeError",
     "evalue":"TypeError: unsupported operand type(s) for +: 'int' and 'str'",
     "traceback":[
      "\u001b[0;31m---------------------------------------------------------------------------",
      "Traceback (most recent call last)",
      "    at line 18 in <module>",
      "TypeError: unsupported operand type(s) for +: 'int' and 'str'"
     ],
     "output_type":"error"
    }
   ],
   "metadata":{
    "datalore":{
     "node_id":"fo1mEVEdFil92MDBj4fOwx",
     "type":"CODE",
     "hide_input_from_viewers":true,
     "hide_output_from_viewers":true
    }
   }
  },
  {
   "cell_type":"code",
   "source":[
    
   ],
   "execution_count":null,
   "outputs":[
    
   ],
   "metadata":{
    "datalore":{
     "node_id":"wSOmp575D9fIbUo5LOlOxE",
     "type":"CODE",
     "hide_input_from_viewers":true,
     "hide_output_from_viewers":true
    }
   }
  }
 ],
 "metadata":{
  "kernelspec":{
   "display_name":"Python",
   "language":"python",
   "name":"python"
  },
  "datalore":{
   "computation_mode":"JUPYTER",
   "package_manager":"pip",
   "base_environment":"default",
   "packages":[
    
   ],
   "report_row_ids":[
    
   ],
   "version":3
  }
 },
 "nbformat":4,
 "nbformat_minor":4
}