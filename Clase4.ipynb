{
 "cells":[
  {
   "cell_type":"markdown",
   "source":[
    "# Las sentencias Break y Continue con While"
   ],
   "attachments":{
    
   },
   "metadata":{
    "datalore":{
     "node_id":"NwBhUKFunn3GL4I2V45rcb",
     "type":"MD",
     "hide_input_from_viewers":false,
     "hide_output_from_viewers":false
    }
   }
  },
  {
   "cell_type":"code",
   "source":[
    "#Ejemplo para break\n",
    "\n",
    "print(\"while con la sentencia break \\n\")\n",
    "contador = 0\n",
    "while contador < 10:\n",
    "    contador += 1\n",
    "\n",
    "    if contador == 5:\n",
    "        break\n",
    "\n",
    "    print(\"Valor actual de la variable: \", contador)\n",
    "\n",
    "print(\"Fin del prgrama, la sentencia break se ha ejecutado.\")\n",
    "\n",
    "#Ejemplo para continue\n",
    "\n",
    "print(\"\\nwhile con la sentencia continue \\n\")\n",
    "contador = 0\n",
    "while contador < 10:\n",
    "    contador += 1\n",
    "\n",
    "    if contador == 5:\n",
    "        continue\n",
    "\n",
    "    print(\"Valor actual de la variable: \", contador)"
   ],
   "execution_count":1,
   "outputs":[
    {
     "name":"stdout",
     "text":[
      "while con la sentencia break \n",
      "\n",
      "Valor actual de la variable:  1\n",
      "Valor actual de la variable:  2\n",
      "Valor actual de la variable:  3\n",
      "Valor actual de la variable:  4\n",
      "Fin del prgrama, la sentencia break se ha ejecutado.\n",
      "\n",
      "while con la sentencia continue \n",
      "\n",
      "Valor actual de la variable:  1\n",
      "Valor actual de la variable:  2\n",
      "Valor actual de la variable:  3\n",
      "Valor actual de la variable:  4\n",
      "Valor actual de la variable:  6\n",
      "Valor actual de la variable:  7\n",
      "Valor actual de la variable:  8\n",
      "Valor actual de la variable:  9\n",
      "Valor actual de la variable:  10\n"
     ],
     "output_type":"stream"
    }
   ],
   "metadata":{
    "datalore":{
     "node_id":"LEBISWZv6xoH3Zr0iyRMSE",
     "type":"CODE",
     "hide_input_from_viewers":false,
     "hide_output_from_viewers":false
    }
   }
  },
  {
   "cell_type":"markdown",
   "source":[
    "# Función len"
   ],
   "attachments":{
    
   },
   "metadata":{
    "datalore":{
     "node_id":"kNzFJ8jANGGUDchxyplpSY",
     "type":"MD",
     "hide_input_from_viewers":false,
     "hide_output_from_viewers":false
    }
   }
  },
  {
   "cell_type":"code",
   "source":[
    "#Opción 1\n",
    "print(\"Hola tiene\", len(\"Hola\"), \"caracteres.\")\n",
    "\n",
    "#Opción 2\n",
    "longitud = len(\"Sneyder Martínez Caicedo\")\n",
    "print(\"Mi nombre tiene\", longitud, \"caracteres\")"
   ],
   "execution_count":4,
   "outputs":[
    {
     "name":"stdout",
     "text":[
      "Hola tiene 4 caracteres.\n",
      "Mi nombre tiene 24 caracteres\n"
     ],
     "output_type":"stream"
    }
   ],
   "metadata":{
    "datalore":{
     "node_id":"R32blrxyd0aTObbrBDK6jL",
     "type":"CODE",
     "hide_input_from_viewers":false,
     "hide_output_from_viewers":false
    }
   }
  },
  {
   "cell_type":"markdown",
   "source":[
    "# Concatenación con Python"
   ],
   "attachments":{
    
   },
   "metadata":{
    "datalore":{
     "node_id":"xSykfVSRIDtBSN7I5yWl4g",
     "type":"MD",
     "hide_input_from_viewers":false,
     "hide_output_from_viewers":false
    }
   }
  },
  {
   "cell_type":"code",
   "source":[
    "#Alternativa 1\n",
    "nombre = \"Sneyder\"\n",
    "edad = 21\n",
    "\n",
    "print(\"Hola {} tienes {} años\".format(nombre, edad))\n",
    "\n",
    "#Alternativa 2\n",
    "nombre = \"Sneyder\"\n",
    "edad = 21\n",
    "\n",
    "print(\"Hola {nombre} tienes {edad} años\".format(nombre = \"Snake\", edad = 22))\n",
    "\n",
    "#Alternativa 3\n",
    "nombre = \"Snake\"\n",
    "edad = 20\n",
    "\n",
    "print(\"Hola {1} tienes {0} años\".format(edad, nombre))"
   ],
   "execution_count":6,
   "outputs":[
    {
     "name":"stdout",
     "text":[
      "Hola Sneyder tienes 21 años\n",
      "Hola Snake tienes 22 años\n",
      "Hola Snake tienes 20 años\n"
     ],
     "output_type":"stream"
    }
   ],
   "metadata":{
    "datalore":{
     "node_id":"tMX37ZkSpzxqUIA6c7DKm3",
     "type":"CODE",
     "hide_input_from_viewers":false,
     "hide_output_from_viewers":false
    }
   }
  },
  {
   "cell_type":"markdown",
   "source":[
    "# F string"
   ],
   "attachments":{
    
   },
   "metadata":{
    "datalore":{
     "node_id":"IYxOKCoiSpaMB8kJUvkEyX",
     "type":"MD",
     "hide_input_from_viewers":false,
     "hide_output_from_viewers":false
    }
   }
  },
  {
   "cell_type":"code",
   "source":[
    "#Ejemplo1\n",
    "print(f\"El resultado de la suma de 4 + 1 = {4+1}\")\n",
    "\n",
    "\n",
    "#Ejemplo2\n",
    "nombre = \"Carlos\"\n",
    "estatura = 1.80\n",
    "edad = 22\n",
    "\n",
    "print(f\"Hola {nombre} tienes {edad} años y mides {estatura} centímetros\")\n",
    "\n",
    "\n",
    "#Ejemplo3\n",
    "nombre = input(\"¿Cúal es tu nombre?: \")\n",
    "num_uno = int(input(\"Introduce un número: \"))\n",
    "num_dos = int(input(\"Introduce un segundo número: \"))\n",
    "\n",
    "print(f\"Hola {nombre} el resultado de {num_uno} + {num_dos} es: {num_uno + num_dos}\")"
   ],
   "execution_count":7,
   "outputs":[
    {
     "name":"stdout",
     "text":[
      "El resultado de la suma de 4 + 1 = 5\n",
      "Hola Carlos tienes 22 años y mides 1.8 centímetros\n",
      "¿Cúal es tu nombre?:  Sneyder\n"
     ],
     "output_type":"stream"
    },
    {
     "ename":"KeyboardInterrupt",
     "evalue":"KeyboardInterrupt: Interrupted by user",
     "traceback":[
      "\u001b[0;31m---------------------------------------------------------------------------",
      "Traceback (most recent call last)",
      "    at line 14 in <module>",
      "    at line 848 in raw_input(self, prompt)",
      "    at line 892 in _input_request(self, prompt, ident, parent, password)",
      "KeyboardInterrupt: Interrupted by user"
     ],
     "output_type":"error"
    }
   ],
   "metadata":{
    "datalore":{
     "node_id":"zkgBNr6gvN3xQRdhPk9qze",
     "type":"CODE",
     "hide_input_from_viewers":false,
     "hide_output_from_viewers":false
    }
   }
  },
  {
   "cell_type":"markdown",
   "source":[
    "# Strip, rstrinp, lstrip"
   ],
   "attachments":{
    
   },
   "metadata":{
    "datalore":{
     "node_id":"ozo8JjSQFqW0HGiwWJUcfo",
     "type":"MD",
     "hide_input_from_viewers":false,
     "hide_output_from_viewers":false
    }
   }
  },
  {
   "cell_type":"markdown",
   "source":[
    "## Metodo Strip ()"
   ],
   "attachments":{
    
   },
   "metadata":{
    "datalore":{
     "node_id":"sC56kSRbd6P4DXFFcr2AEv",
     "type":"MD",
     "hide_input_from_viewers":false,
     "hide_output_from_viewers":false
    }
   }
  },
  {
   "cell_type":"code",
   "source":[
    "cadena = \"\\tHola Ernesto\\n\"\n",
    "print(cadena)\n",
    "\n",
    "\n",
    "cadena = cadena.strip(\"s tHo\\t\\n\")\n",
    "print(cadena)"
   ],
   "execution_count":16,
   "outputs":[
    {
     "name":"stdout",
     "text":[
      "\tHola Ernesto\n",
      "\n",
      "la Erne\n"
     ],
     "output_type":"stream"
    }
   ],
   "metadata":{
    "datalore":{
     "node_id":"aXksvZBc7qMCvnXBafJqRH",
     "type":"CODE",
     "hide_input_from_viewers":false,
     "hide_output_from_viewers":false
    }
   }
  },
  {
   "cell_type":"markdown",
   "source":[
    "## Metodo rstrinp ()"
   ],
   "attachments":{
    
   },
   "metadata":{
    "datalore":{
     "node_id":"wxNVLIKAgPTObuQuRs6mfD",
     "type":"MD",
     "hide_input_from_viewers":false,
     "hide_output_from_viewers":false
    }
   }
  },
  {
   "cell_type":"code",
   "source":[
    "cadena = \"\\tHola Ernesto\\n\"\n",
    "print(cadena)\n",
    "\n",
    "cadena = cadena.rstrip(\"s tHo\\t\\n\")\n",
    "print(cadena)"
   ],
   "execution_count":9,
   "outputs":[
    {
     "name":"stdout",
     "text":[
      "\tHola Ernesto\n",
      "\n",
      "\tHola Erne\n"
     ],
     "output_type":"stream"
    }
   ],
   "metadata":{
    "datalore":{
     "node_id":"3WZ0oUWyqQjzQ35HsWkA7J",
     "type":"CODE",
     "hide_input_from_viewers":false,
     "hide_output_from_viewers":false
    }
   }
  },
  {
   "cell_type":"markdown",
   "source":[
    "## Metodo lstrip ()"
   ],
   "attachments":{
    
   },
   "metadata":{
    "datalore":{
     "node_id":"UKEYAUVDiezdK9FX56LrLi",
     "type":"MD",
     "hide_input_from_viewers":false,
     "hide_output_from_viewers":false
    }
   }
  },
  {
   "cell_type":"code",
   "source":[
    "cadena = \"\\tHola Ernesto\\n\"\n",
    "print(cadena)\n",
    "\n",
    "cadena = cadena.lstrip(\"s tHo\\t\\n\")\n",
    "print(cadena)"
   ],
   "execution_count":13,
   "outputs":[
    {
     "name":"stdout",
     "text":[
      "\tHola Ernesto\n",
      "\n",
      "la Ernesto\n",
      "\n"
     ],
     "output_type":"stream"
    }
   ],
   "metadata":{
    "datalore":{
     "node_id":"f1irZSgJzhPTyKlyybwlW2",
     "type":"CODE",
     "hide_input_from_viewers":false,
     "hide_output_from_viewers":false
    }
   }
  }
 ],
 "metadata":{
  "kernelspec":{
   "display_name":"Python",
   "language":"python",
   "name":"python"
  },
  "datalore":{
   "version":1,
   "computation_mode":"JUPYTER",
   "package_manager":"pip",
   "base_environment":"default",
   "packages":[
    
   ]
  }
 },
 "nbformat":4,
 "nbformat_minor":4
}