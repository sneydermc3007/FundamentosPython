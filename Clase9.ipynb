{
 "cells":[
  {
   "cell_type":"markdown",
   "source":[
    "# Modificar elementos de una lista"
   ],
   "attachments":{
    
   },
   "metadata":{
    "datalore":{
     "node_id":"adVxbn71kGEAUwMHEkcRU9",
     "type":"MD",
     "hide_input_from_viewers":true,
     "hide_output_from_viewers":true
    }
   }
  },
  {
   "cell_type":"code",
   "source":[
    "print(\"Modificando vocales[1] = 'x'\")\n",
    "vocales = [\"a\", \"e\", \"i\", \"o\", \"u\"]\n",
    "print(f\"\\nLista vocales: {vocales}\")\n",
    "vocales[1] = 'x'\n",
    "print(f\"Lista vocales: {vocales}\")"
   ],
   "execution_count":1,
   "outputs":[
    {
     "name":"stdout",
     "text":[
      "Modificando vocales[1] = 'x'\n",
      "\n",
      "Lista vocales: ['a', 'e', 'i', 'o', 'u']\n",
      "Lista vocales: ['a', 'x', 'i', 'o', 'u']\n"
     ],
     "output_type":"stream"
    }
   ],
   "metadata":{
    "datalore":{
     "node_id":"Tyfv9ez25aBOjahSRJAwFb",
     "type":"CODE",
     "hide_input_from_viewers":true,
     "hide_output_from_viewers":true
    }
   }
  },
  {
   "cell_type":"code",
   "source":[
    "print(\"Modificando vocales[-1] = 'x'\")\n",
    "vocales = [\"a\", \"e\", \"i\", \"o\", \"u\"]\n",
    "print(f\"\\nLista vocales: {vocales}\")\n",
    "vocales[-1] = 'x'\n",
    "print(f\"Lista vocales: {vocales}\")"
   ],
   "execution_count":2,
   "outputs":[
    {
     "name":"stdout",
     "text":[
      "Modificando vocales[-1] = 'x'\n",
      "\n",
      "Lista vocales: ['a', 'e', 'i', 'o', 'u']\n",
      "Lista vocales: ['a', 'e', 'i', 'o', 'x']\n"
     ],
     "output_type":"stream"
    }
   ],
   "metadata":{
    "datalore":{
     "node_id":"TP7Ao4m83kHvVWBGPJZiU2",
     "type":"CODE",
     "hide_input_from_viewers":true,
     "hide_output_from_viewers":true
    }
   }
  },
  {
   "cell_type":"markdown",
   "source":[
    "# Metodo append()"
   ],
   "attachments":{
    
   },
   "metadata":{
    "datalore":{
     "node_id":"hBSpdOWtVOUqCnz2Sl0g9q",
     "type":"MD",
     "hide_input_from_viewers":true,
     "hide_output_from_viewers":true
    }
   }
  },
  {
   "cell_type":"code",
   "source":[
    "print(\"Agregando un elemento a la lista\")\n",
    "letters = [\"a\", \"b\", \"c\", \"d\"]\n",
    "print(f\"Lista: {letters}\")\n",
    "letters.append(\"e\")\n",
    "print(f\"Lista: {letters}\")"
   ],
   "execution_count":3,
   "outputs":[
    {
     "name":"stdout",
     "text":[
      "Agregando un elemento a la lista\n",
      "Lista: ['a', 'b', 'c', 'd']\n",
      "Lista: ['a', 'b', 'c', 'd', 'e']\n"
     ],
     "output_type":"stream"
    }
   ],
   "metadata":{
    "datalore":{
     "node_id":"Lzb0sdj06vem314Bkih8hR",
     "type":"CODE",
     "hide_input_from_viewers":true,
     "hide_output_from_viewers":true
    }
   }
  },
  {
   "cell_type":"code",
   "source":[
    "print(\"\\nAgregando tres elementos a la lista\")\n",
    "letters = [\"a\", \"b\", \"c\", \"d\"]\n",
    "print(f\"Lista: {letters}\")\n",
    "letters.append(\"e\")\n",
    "letters.append(\"f\")\n",
    "letters.append(\"g\")\n",
    "print(f\"Lista: {letters}\")"
   ],
   "execution_count":4,
   "outputs":[
    {
     "name":"stdout",
     "text":[
      "\n",
      "Agregando tres elementos a la lista\n",
      "Lista: ['a', 'b', 'c', 'd']\n",
      "Lista: ['a', 'b', 'c', 'd', 'e', 'f', 'g']\n"
     ],
     "output_type":"stream"
    }
   ],
   "metadata":{
    "datalore":{
     "node_id":"9xAw47AW6O8SM1OzOyqhWz",
     "type":"CODE",
     "hide_input_from_viewers":true,
     "hide_output_from_viewers":true
    }
   }
  },
  {
   "cell_type":"code",
   "source":[
    "print(\"\\nAgregando tres elementos de distinto tipo de dato a la lista\")\n",
    "letters = [\"a\", \"b\", \"c\", \"d\"]\n",
    "print(f\"Lista: {letters}\")\n",
    "letters.append(5)\n",
    "letters.append(2.3)\n",
    "letters.append(True)\n",
    "print(f\"Lista: {letters}\")"
   ],
   "execution_count":5,
   "outputs":[
    {
     "name":"stdout",
     "text":[
      "\n",
      "Agregando tres elementos de distinto tipo de dato a la lista\n",
      "Lista: ['a', 'b', 'c', 'd']\n",
      "Lista: ['a', 'b', 'c', 'd', 5, 2.3, True]\n"
     ],
     "output_type":"stream"
    }
   ],
   "metadata":{
    "datalore":{
     "node_id":"qfc7F6mqtSPPFpnR5wLqfC",
     "type":"CODE",
     "hide_input_from_viewers":true,
     "hide_output_from_viewers":true
    }
   }
  },
  {
   "cell_type":"markdown",
   "source":[
    "# Medoto insert()"
   ],
   "attachments":{
    
   },
   "metadata":{
    "datalore":{
     "node_id":"UJkKH385XPPiiLb8bzn1gm",
     "type":"MD",
     "hide_input_from_viewers":true,
     "hide_output_from_viewers":true
    }
   }
  },
  {
   "cell_type":"code",
   "source":[
    "print(\"Lista original\")\n",
    "letters = [\"b\", \"d\", \"f\", \"g\"]\n",
    "print(f\"Lista: {letters}\")"
   ],
   "execution_count":7,
   "outputs":[
    {
     "name":"stdout",
     "text":[
      "Lista original\n",
      "Lista: ['b', 'd', 'f', 'g']\n"
     ],
     "output_type":"stream"
    }
   ],
   "metadata":{
    "datalore":{
     "node_id":"H1xNE4lJ9y7noYuewH1GYH",
     "type":"CODE",
     "hide_input_from_viewers":true,
     "hide_output_from_viewers":true
    }
   }
  },
  {
   "cell_type":"code",
   "source":[
    "print(\"\\nInsertando 'a' en posición 0\")\n",
    "letters.insert(0, \"a\")\n",
    "print(f\"Lista: {letters}\")"
   ],
   "execution_count":8,
   "outputs":[
    {
     "name":"stdout",
     "text":[
      "\n",
      "Insertando 'a' en posición 0\n",
      "Lista: ['a', 'b', 'd', 'f', 'g']\n"
     ],
     "output_type":"stream"
    }
   ],
   "metadata":{
    "datalore":{
     "node_id":"oltUyLEfFgRmsOE2EOsVCl",
     "type":"CODE",
     "hide_input_from_viewers":true,
     "hide_output_from_viewers":true
    }
   }
  },
  {
   "cell_type":"code",
   "source":[
    "print(\"\\nInsertando 'z' en posición 100\")\n",
    "letters.insert(100, \"z\")\n",
    "print(f\"Lista: {letters}\")"
   ],
   "execution_count":9,
   "outputs":[
    {
     "name":"stdout",
     "text":[
      "\n",
      "Insertando 'z' en posición 100\n",
      "Lista: ['a', 'b', 'd', 'f', 'g', 'z']\n"
     ],
     "output_type":"stream"
    }
   ],
   "metadata":{
    "datalore":{
     "node_id":"Q3Bp03aXvwEvMHk4GvhSDF",
     "type":"CODE",
     "hide_input_from_viewers":true,
     "hide_output_from_viewers":true
    }
   }
  },
  {
   "cell_type":"markdown",
   "source":[
    "# Metodo pop"
   ],
   "attachments":{
    
   },
   "metadata":{
    "datalore":{
     "node_id":"QTlDvGgDYQtWKfAT7puHYW",
     "type":"MD",
     "hide_input_from_viewers":true,
     "hide_output_from_viewers":true
    }
   }
  },
  {
   "cell_type":"code",
   "source":[
    "vocales = [\"a\", \"e\", \"i\", \"o\", \"u\"]\n",
    "print(f\"Lista: {vocales}\")\n",
    "print(f\"Elemento eliminado: {vocales.pop()}\")\n",
    "print(f\"Lista: {vocales}\")"
   ],
   "execution_count":10,
   "outputs":[
    {
     "name":"stdout",
     "text":[
      "Lista: ['a', 'e', 'i', 'o', 'u']\n",
      "Elemento eliminado: u\n",
      "Lista: ['a', 'e', 'i', 'o']\n"
     ],
     "output_type":"stream"
    }
   ],
   "metadata":{
    "datalore":{
     "node_id":"6zbrOugX1gsKjGIvAaXI0u",
     "type":"CODE",
     "hide_input_from_viewers":true,
     "hide_output_from_viewers":true
    }
   }
  },
  {
   "cell_type":"code",
   "source":[
    "vocales = [\"a\", \"e\", \"i\", \"o\", \"u\"]\n",
    "print(f\"\\nLista: {vocales}\")\n",
    "print(f\"Elemento eliminado en la posición 2: {vocales.pop(2)}\")\n",
    "print(f\"Lista: {vocales}\")"
   ],
   "execution_count":11,
   "outputs":[
    {
     "name":"stdout",
     "text":[
      "\n",
      "Lista: ['a', 'e', 'i', 'o', 'u']\n",
      "Elemento eliminado en la posición 2: i\n",
      "Lista: ['a', 'e', 'o', 'u']\n"
     ],
     "output_type":"stream"
    }
   ],
   "metadata":{
    "datalore":{
     "node_id":"jPw361oXSUGnChjZEQ5ykH",
     "type":"CODE",
     "hide_input_from_viewers":true,
     "hide_output_from_viewers":true
    }
   }
  },
  {
   "cell_type":"markdown",
   "source":[
    "# Metodo remove()"
   ],
   "attachments":{
    
   },
   "metadata":{
    "datalore":{
     "node_id":"DR7Io3KUuD0QS9sUgDmJMI",
     "type":"MD",
     "hide_input_from_viewers":true,
     "hide_output_from_viewers":true
    }
   }
  },
  {
   "cell_type":"code",
   "source":[
    "vocales = [\"a\", \"e\", \"i\", \"o\", \"u\"]\n",
    "print(f\"{vocales} \\nElemento a eliminar: i\")\n",
    "vocales.remove(\"i\")\n",
    "print(vocales)"
   ],
   "execution_count":12,
   "outputs":[
    {
     "name":"stdout",
     "text":[
      "['a', 'e', 'i', 'o', 'u'] \n",
      "Elemento a eliminar: i\n",
      "['a', 'e', 'o', 'u']\n"
     ],
     "output_type":"stream"
    }
   ],
   "metadata":{
    "datalore":{
     "node_id":"jD0LnlKIHiiTXc4LhN5rc3",
     "type":"CODE",
     "hide_input_from_viewers":true,
     "hide_output_from_viewers":true
    }
   }
  },
  {
   "cell_type":"code",
   "source":[
    "vocales = [\"a\", \"e\", \"i\", \"o\", \"u\"]\n",
    "print(f\"\\n{vocales} \\nElemento a eliminar: o\")\n",
    "vocales.remove(\"o\")\n",
    "print(vocales)"
   ],
   "execution_count":13,
   "outputs":[
    {
     "name":"stdout",
     "text":[
      "\n",
      "['a', 'e', 'i', 'o', 'u'] \n",
      "Elemento a eliminar: o\n",
      "['a', 'e', 'i', 'u']\n"
     ],
     "output_type":"stream"
    }
   ],
   "metadata":{
    "datalore":{
     "node_id":"bNTBrGOCcaCOzd2R4Dfj9O",
     "type":"CODE",
     "hide_input_from_viewers":true,
     "hide_output_from_viewers":true
    }
   }
  },
  {
   "cell_type":"markdown",
   "source":[
    "# del"
   ],
   "attachments":{
    
   },
   "metadata":{
    "datalore":{
     "node_id":"srQgBzpvLLoprwC5absbsx",
     "type":"MD",
     "hide_input_from_viewers":true,
     "hide_output_from_viewers":true
    }
   }
  },
  {
   "cell_type":"code",
   "source":[
    "vocales = [\"a\", \"e\", \"i\", \"o\", \"u\"]\n",
    "print(f\"Listas: {vocales}\")\n",
    "del vocales[3]\n",
    "print(f\"del vocales[3]: {vocales}\")"
   ],
   "execution_count":14,
   "outputs":[
    {
     "name":"stdout",
     "text":[
      "Listas: ['a', 'e', 'i', 'o', 'u']\n",
      "del vocales[3]: ['a', 'e', 'i', 'u']\n"
     ],
     "output_type":"stream"
    }
   ],
   "metadata":{
    "datalore":{
     "node_id":"tgHSNIgREfDHqcdtHPSJVU",
     "type":"CODE",
     "hide_input_from_viewers":true,
     "hide_output_from_viewers":true
    }
   }
  },
  {
   "cell_type":"code",
   "source":[
    "\n",
    "vocales = [\"a\", \"e\", \"i\", \"o\", \"u\"]\n",
    "print(f\"\\nListas: {vocales}\")\n",
    "del vocales[0:2]\n",
    "print(f\"del vocales[0:2]: {vocales}\")"
   ],
   "execution_count":16,
   "outputs":[
    {
     "name":"stdout",
     "text":[
      "\n",
      "Listas: ['a', 'e', 'i', 'o', 'u']\n",
      "del vocales[0:2]: ['i', 'o', 'u']\n"
     ],
     "output_type":"stream"
    }
   ],
   "metadata":{
    "datalore":{
     "node_id":"RgUI6WucZnQnHEH8LmGvaw",
     "type":"CODE",
     "hide_input_from_viewers":true,
     "hide_output_from_viewers":true
    }
   }
  },
  {
   "cell_type":"code",
   "source":[
    "vocales = [\"a\", \"e\", \"i\", \"o\", \"u\"]\n",
    "print(f\"\\nListas: {vocales}\")\n",
    "del vocales[:]\n",
    "print(f\"del vocales[:]: {vocales}\")"
   ],
   "execution_count":17,
   "outputs":[
    {
     "name":"stdout",
     "text":[
      "\n",
      "Listas: ['a', 'e', 'i', 'o', 'u']\n",
      "del vocales[:]: []\n"
     ],
     "output_type":"stream"
    }
   ],
   "metadata":{
    "datalore":{
     "node_id":"ejWyTm0taUaOBgkKW0yayg",
     "type":"CODE",
     "hide_input_from_viewers":true,
     "hide_output_from_viewers":true
    }
   }
  },
  {
   "cell_type":"markdown",
   "source":[
    "# Metodo reverse"
   ],
   "attachments":{
    
   },
   "metadata":{
    "datalore":{
     "node_id":"eujGJllGmP2fB0GQZCpxB6",
     "type":"MD",
     "hide_input_from_viewers":true,
     "hide_output_from_viewers":true
    }
   }
  },
  {
   "cell_type":"code",
   "source":[
    "vocales = [\"a\", \"e\", \"i\", \"o\", \"u\"]\n",
    "print(f\"Lista: {vocales}\")"
   ],
   "execution_count":24,
   "outputs":[
    {
     "name":"stdout",
     "text":[
      "Lista: ['a', 'e', 'i', 'o', 'u']\n"
     ],
     "output_type":"stream"
    }
   ],
   "metadata":{
    "datalore":{
     "node_id":"cGQn1Vog7DyKHNPIJCyApB",
     "type":"CODE",
     "hide_input_from_viewers":true,
     "hide_output_from_viewers":true
    }
   }
  },
  {
   "cell_type":"code",
   "source":[
    "vocales.reverse()\n",
    "print(f\"\\nLista: {vocales}\")\n",
    "print(f\"posición 0: {vocales[0]}\")"
   ],
   "execution_count":25,
   "outputs":[
    {
     "name":"stdout",
     "text":[
      "\n",
      "Lista: ['u', 'o', 'i', 'e', 'a']\n",
      "Lista: ['u', 'o', 'i', 'e', 'a']\n",
      "posición 0: u\n"
     ],
     "output_type":"stream"
    }
   ],
   "metadata":{
    "datalore":{
     "node_id":"LRNzOHwNsLvPJuOBEMUfxI",
     "type":"CODE",
     "hide_input_from_viewers":true,
     "hide_output_from_viewers":true
    }
   }
  }
 ],
 "metadata":{
  "kernelspec":{
   "display_name":"Python",
   "language":"python",
   "name":"python"
  },
  "datalore":{
   "computation_mode":"JUPYTER",
   "package_manager":"pip",
   "base_environment":"default",
   "packages":[
    
   ],
   "report_row_ids":[
    
   ],
   "version":3
  }
 },
 "nbformat":4,
 "nbformat_minor":4
}