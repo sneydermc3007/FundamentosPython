{
 "cells":[
  {
   "cell_type":"markdown",
   "source":[
    "# Range y for"
   ],
   "attachments":{
    
   },
   "metadata":{
    "datalore":{
     "node_id":"lADs0PdQ1mMwpseIQ0IdcN",
     "type":"MD",
     "hide_input_from_viewers":true,
     "hide_output_from_viewers":true
    }
   }
  },
  {
   "cell_type":"code",
   "source":[
    "for indice in range(1,5):\n",
    "    print(indice)\n",
    "\n",
    "print(\"Fin del programa.\")"
   ],
   "execution_count":1,
   "outputs":[
    {
     "name":"stdout",
     "text":[
      "1\n",
      "2\n",
      "3\n",
      "4\n",
      "Fin del programa.\n"
     ],
     "output_type":"stream"
    }
   ],
   "metadata":{
    "datalore":{
     "node_id":"DPz3uIOBJBUvMIwD83cU99",
     "type":"CODE",
     "hide_input_from_viewers":true,
     "hide_output_from_viewers":true
    }
   }
  },
  {
   "cell_type":"markdown",
   "source":[
    "# Listas"
   ],
   "attachments":{
    
   },
   "metadata":{
    "datalore":{
     "node_id":"MpK0gyU2pHeIqyZGNQey42",
     "type":"MD",
     "hide_input_from_viewers":true,
     "hide_output_from_viewers":true
    }
   }
  },
  {
   "cell_type":"code",
   "source":[
    "print(\"Lista vacia\")\n",
    "\n",
    "lista_vacia = []\n",
    "print(lista_vacia)\n",
    "\n",
    "print(\"\\nListas homogéneas\")\n",
    "\n",
    "vocales = [\"a\", \"e\", \"i\", \"o\", \"u\"]\n",
    "print(vocales)\n",
    "\n",
    "numeros_enteros = [1, 2, 3, 4, 5]\n",
    "print(numeros_enteros)\n",
    "\n",
    "numeros_decimales = [1.5, 2.2, 3.3, 4.9, 5.1]\n",
    "print(numeros_decimales)\n",
    "\n",
    "valores_booleanos = [True, False, False, True]\n",
    "print(valores_booleanos)\n",
    "\n",
    "\n",
    "print(\"\\nListas heterogénea\")\n",
    "\n",
    "datos = ['Carlos', 20, 1.70, True]\n",
    "print(datos)"
   ],
   "execution_count":2,
   "outputs":[
    {
     "name":"stdout",
     "text":[
      "Lista vacia\n",
      "[]\n",
      "\n",
      "Listas homogéneas\n",
      "['a', 'e', 'i', 'o', 'u']\n",
      "[1, 2, 3, 4, 5]\n",
      "[1.5, 2.2, 3.3, 4.9, 5.1]\n",
      "[True, False, False, True]\n",
      "\n",
      "Listas heterogénea\n",
      "['Carlos', 20, 1.7, True]\n"
     ],
     "output_type":"stream"
    }
   ],
   "metadata":{
    "datalore":{
     "node_id":"K0GC2lCMetEksH42FsQOHZ",
     "type":"CODE",
     "hide_input_from_viewers":true,
     "hide_output_from_viewers":true
    }
   }
  }
 ],
 "metadata":{
  "kernelspec":{
   "display_name":"Python",
   "language":"python",
   "name":"python"
  },
  "datalore":{
   "computation_mode":"JUPYTER",
   "package_manager":"pip",
   "base_environment":"default",
   "packages":[
    
   ],
   "report_row_ids":[
    
   ],
   "version":3
  }
 },
 "nbformat":4,
 "nbformat_minor":4
}