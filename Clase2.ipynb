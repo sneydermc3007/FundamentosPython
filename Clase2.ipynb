{
 "cells":[
  {
   "cell_type":"markdown",
   "source":[
    "# Tipos de Dato"
   ],
   "attachments":{
    
   },
   "metadata":{
    "datalore":{
     "node_id":"c95gpkpp0ckAnysISx6kHW",
     "type":"MD",
     "hide_input_from_viewers":false,
     "hide_output_from_viewers":false
    }
   }
  },
  {
   "cell_type":"markdown",
   "source":[
    "## Dato Boolean"
   ],
   "attachments":{
    
   },
   "metadata":{
    "datalore":{
     "node_id":"jdrI1Z0oUqUy8z7eAefq0B",
     "type":"MD",
     "hide_input_from_viewers":false,
     "hide_output_from_viewers":false
    }
   }
  },
  {
   "cell_type":"code",
   "source":[
    "verdadero_falso = 3 == 3\n",
    "print(verdadero_falso, type(verdadero_falso))"
   ],
   "execution_count":1,
   "outputs":[
    {
     "name":"stdout",
     "text":[
      "True <class 'bool'>\n"
     ],
     "output_type":"stream"
    }
   ],
   "metadata":{
    "datalore":{
     "node_id":"XUX7jn1uMNxfDfgztjoMov",
     "type":"CODE",
     "hide_input_from_viewers":false,
     "hide_output_from_viewers":false
    }
   }
  },
  {
   "cell_type":"markdown",
   "source":[
    "## Tipo de dato entero o largo"
   ],
   "attachments":{
    
   },
   "metadata":{
    "datalore":{
     "node_id":"PZhLU4kbQktCpgPB61O7kt",
     "type":"MD",
     "hide_input_from_viewers":false,
     "hide_output_from_viewers":false
    }
   }
  },
  {
   "cell_type":"code",
   "source":[
    "numero = 15\n",
    "print(numero, type(numero))"
   ],
   "execution_count":4,
   "outputs":[
    {
     "name":"stdout",
     "text":[
      "15 <class 'int'>\n"
     ],
     "output_type":"stream"
    }
   ],
   "metadata":{
    "datalore":{
     "node_id":"l0LRhGgQ2rkunu0Gmbfa5y",
     "type":"CODE",
     "hide_input_from_viewers":false,
     "hide_output_from_viewers":false
    }
   }
  },
  {
   "cell_type":"markdown",
   "source":[
    "\n",
    "## Tipo de dato flotante"
   ],
   "attachments":{
    
   },
   "metadata":{
    "datalore":{
     "node_id":"g7d5in8MAW9RzmcW3EqbAo",
     "type":"MD",
     "hide_input_from_viewers":false,
     "hide_output_from_viewers":false
    }
   }
  },
  {
   "cell_type":"code",
   "source":[
    "numero_flotante = 15.5\n",
    "print(numero_flotante, type(numero_flotante))"
   ],
   "execution_count":5,
   "outputs":[
    {
     "name":"stdout",
     "text":[
      "15.5 <class 'float'>\n"
     ],
     "output_type":"stream"
    }
   ],
   "metadata":{
    "datalore":{
     "node_id":"MxabPIeax9WI0numKbVKGX",
     "type":"CODE",
     "hide_input_from_viewers":false,
     "hide_output_from_viewers":false
    }
   }
  },
  {
   "cell_type":"markdown",
   "source":[
    "## Tipo de dato Número complejo"
   ],
   "attachments":{
    
   },
   "metadata":{
    "datalore":{
     "node_id":"qHLqoC1lEeKUEs1EybHrd6",
     "type":"MD",
     "hide_input_from_viewers":false,
     "hide_output_from_viewers":false
    }
   }
  },
  {
   "cell_type":"code",
   "source":[
    "numero_complejo = 5 + 6j\n",
    "print(numero_complejo, type(numero_complejo))"
   ],
   "execution_count":6,
   "outputs":[
    {
     "name":"stdout",
     "text":[
      "(5+6j) <class 'complex'>\n"
     ],
     "output_type":"stream"
    }
   ],
   "metadata":{
    "datalore":{
     "node_id":"QsaNn5WQ2TQsMLWDYHhv1t",
     "type":"CODE",
     "hide_input_from_viewers":false,
     "hide_output_from_viewers":false
    }
   }
  },
  {
   "cell_type":"markdown",
   "source":[
    "## Tipo de dato String"
   ],
   "attachments":{
    
   },
   "metadata":{
    "datalore":{
     "node_id":"4KCkxVLcCyJzaJR2VjKSXF",
     "type":"MD",
     "hide_input_from_viewers":false,
     "hide_output_from_viewers":false
    }
   }
  },
  {
   "cell_type":"code",
   "source":[
    "nombre = \"Ernesto\"\n",
    "print(nombre, type(nombre))"
   ],
   "execution_count":7,
   "outputs":[
    {
     "name":"stdout",
     "text":[
      "Ernesto <class 'str'>\n"
     ],
     "output_type":"stream"
    }
   ],
   "metadata":{
    "datalore":{
     "node_id":"zvsG1Gy7jfZO4KMVwkVFWI",
     "type":"CODE",
     "hide_input_from_viewers":false,
     "hide_output_from_viewers":false
    }
   }
  },
  {
   "cell_type":"markdown",
   "source":[
    "# Entrada de datos"
   ],
   "attachments":{
    
   },
   "metadata":{
    "datalore":{
     "node_id":"cksjHW8j073iFSv4cTjjpd",
     "type":"MD",
     "hide_input_from_viewers":false,
     "hide_output_from_viewers":false
    }
   }
  },
  {
   "cell_type":"code",
   "source":[
    "palabra = input(\"Ingrese una palabra: \")\n",
    "\n",
    "print(palabra)"
   ],
   "execution_count":8,
   "outputs":[
    {
     "name":"stdout",
     "text":[
      "Ingrese una palabra:  Casa\n",
      "Casa\n"
     ],
     "output_type":"stream"
    }
   ],
   "metadata":{
    "datalore":{
     "node_id":"WLXbq2ewOKpNVfUkNMCUDC",
     "type":"CODE",
     "hide_input_from_viewers":false,
     "hide_output_from_viewers":false
    }
   }
  },
  {
   "cell_type":"code",
   "source":[
    "num_int = int(input(\"Introduce un número entero: \"))\n",
    "num_float = float(input(\"Introduce un número flotante: \"))\n",
    "num_compless = complex(input(\"Introduce un número complejo: \"))\n",
    "\n",
    "print(\"\\n\\nString: \", palabra)\n",
    "print(\"Entero: \", num_int)\n",
    "print(\"Flotante: \", num_float)\n",
    "print(\"Número complejo: \", num_compless)"
   ],
   "execution_count":10,
   "outputs":[
    {
     "name":"stdout",
     "text":[
      "Introduce un número entero:  23\n",
      "Introduce un número flotante:  10.5\n",
      "Introduce un número complejo:  7j\n",
      "\n",
      "\n",
      "String:  Casa\n",
      "Entero:  23\n",
      "Flotante:  10.5\n",
      "Número complejo:  7j\n"
     ],
     "output_type":"stream"
    }
   ],
   "metadata":{
    "datalore":{
     "node_id":"qsQJfrEFwJyP8MiO6DHDtV",
     "type":"CODE",
     "hide_input_from_viewers":false,
     "hide_output_from_viewers":false
    }
   }
  },
  {
   "cell_type":"code",
   "source":[
    "nombre = input(\"¿Cual es tu nombre?: \")\n",
    "print(\"Hola \" + nombre + \", vamos a realizar una suma.\")\n",
    "\n",
    "num_uno = int(input(\"\\n\\nPorfavor introduce el primer valor: \"))\n",
    "num_dos = int(input(\"Porfavor introduce el segundo valor: \"))\n",
    "\n",
    "resultado = num_uno + num_dos\n",
    "\n",
    "print(nombre + \"\\n el resultado de la suma es: \", resultado)"
   ],
   "execution_count":11,
   "outputs":[
    {
     "name":"stdout",
     "text":[
      "¿Cual es tu nombre?:  Sneyder\n",
      "Hola Sneyder, vamos a realizar una suma.\n",
      "\n",
      "\n",
      "Porfavor introduce el primer valor:  5\n",
      "Porfavor introduce el segundo valor:  7\n",
      "Sneyder\n",
      " el resultado de la suma es:  12\n"
     ],
     "output_type":"stream"
    }
   ],
   "metadata":{
    "datalore":{
     "node_id":"drbenviyeBnvohuQxDU1Qb",
     "type":"CODE",
     "hide_input_from_viewers":false,
     "hide_output_from_viewers":false
    }
   }
  },
  {
   "cell_type":"markdown",
   "source":[
    "# Sentencias Condicionales"
   ],
   "attachments":{
    
   },
   "metadata":{
    "datalore":{
     "node_id":"ZYACblMnVOikDWaoG3JuoM",
     "type":"MD",
     "hide_input_from_viewers":false,
     "hide_output_from_viewers":false
    }
   }
  },
  {
   "cell_type":"code",
   "source":[
    "print(\"Sistema para calcular el promedio de un alumno.\")\n",
    "\n",
    "nombre = input(\"Para comenzar, ¿Cuál es tu nombre?: \")\n",
    "\n",
    "matematicas = int(input(nombre + \" ¿Cuál es tu calificación en matemáticas?: \"))\n",
    "quimica = int(input(nombre + \" ¿Cuál es tu calificación en química?: \"))\n",
    "biologia = int(input(nombre + \" ¿Cuál es tu calificación en biología?: \"))\n",
    "\n",
    "promedio = (matematicas + quimica + biologia) \/ 3\n",
    "promedio = int(promedio)\n",
    "\n",
    "if promedio >= 3:\n",
    "    print('Felicidades ' + nombre + ' \"aprobaste\" con un promedio de: ', promedio)\n",
    "\n",
    "print(\"Fin.\")"
   ],
   "execution_count":15,
   "outputs":[
    {
     "name":"stdout",
     "text":[
      "Sistema para calcular el promedio de un alumno.\n",
      "Para comenzar, ¿Cuál es tu nombre?:  Sneyder\n",
      "Sneyder ¿Cuál es tu calificación en matemáticas?:  5\n",
      "Sneyder ¿Cuál es tu calificación en química?:  4\n",
      "Sneyder ¿Cuál es tu calificación en biología?:  4\n",
      "Felicidades Sneyder \"aprobaste\" con un promedio de:  4\n",
      "Fin.\n"
     ],
     "output_type":"stream"
    }
   ],
   "metadata":{
    "datalore":{
     "node_id":"i7iPuhz1tgHBrMX3Ugt1JC",
     "type":"CODE",
     "hide_input_from_viewers":false,
     "hide_output_from_viewers":false
    }
   }
  }
 ],
 "metadata":{
  "kernelspec":{
   "display_name":"Python",
   "language":"python",
   "name":"python"
  },
  "datalore":{
   "version":1,
   "computation_mode":"JUPYTER",
   "package_manager":"pip",
   "base_environment":"default",
   "packages":[
    {
     "name":"FundamentosPython",
     "version":"main",
     "url":"https:\/\/github.com\/sneydermc3007\/FundamentosPython.git@main",
     "source":"GIT"
    }
   ]
  }
 },
 "nbformat":4,
 "nbformat_minor":4
}