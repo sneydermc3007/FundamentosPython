{
 "cells":[
  {
   "cell_type":"code",
   "source":[
    "import pandas as pd\n",
    "from sklearn.ensemble import RandomForestClassifier\n",
    "from sklearn.preprocessing import MinMaxScaler\n",
    "from sklearn import metrics\n",
    "from sklearn.metrics import make_scorer\n",
    "from sklearn.metrics import roc_auc_score\n",
    "from sklearn.metrics import accuracy_score\n",
    "from sklearn.metrics import f1_score\n",
    "from sklearn.metrics import confusion_matrix\n",
    "from sklearn.metrics import precision_score\n",
    "from sklearn.metrics import recall_score"
   ],
   "execution_count":1,
   "outputs":[
    
   ],
   "metadata":{
    "datalore":{
     "node_id":"NpZ1N8HYEcs8Tp3yKVEdEj",
     "type":"CODE",
     "hide_input_from_viewers":false,
     "hide_output_from_viewers":false,
     "report_properties":{
      "rowId":"snVb4Uqk0COTOorGXys84J"
     }
    }
   }
  },
  {
   "cell_type":"code",
   "source":[
    "df = pd.read_csv(r\"\/data\/notebook_files\/data.csv\")"
   ],
   "execution_count":2,
   "outputs":[
    
   ],
   "metadata":{
    "datalore":{
     "node_id":"YDeogq5jt8fmhvv4HJSJm5",
     "type":"CODE",
     "hide_input_from_viewers":false,
     "hide_output_from_viewers":false,
     "report_properties":{
      "rowId":"jSoDk0bHmd1eKlpytI9B7W"
     }
    }
   }
  },
  {
   "cell_type":"code",
   "source":[
    "df.head()"
   ],
   "execution_count":3,
   "outputs":[
    {
     "data":{
      "text\/html":[
       "<div>\n",
       "<style scoped>\n",
       "    .dataframe tbody tr th:only-of-type {\n",
       "        vertical-align: middle;\n",
       "    }\n",
       "\n",
       "    .dataframe tbody tr th {\n",
       "        vertical-align: top;\n",
       "    }\n",
       "\n",
       "    .dataframe thead th {\n",
       "        text-align: right;\n",
       "    }\n",
       "<\/style>\n",
       "<table border=\"1\" class=\"dataframe\">\n",
       "  <thead>\n",
       "    <tr style=\"text-align: right;\">\n",
       "      <th><\/th>\n",
       "      <th>id<\/th>\n",
       "      <th>diagnosis<\/th>\n",
       "      <th>radius_mean<\/th>\n",
       "      <th>texture_mean<\/th>\n",
       "      <th>perimeter_mean<\/th>\n",
       "      <th>area_mean<\/th>\n",
       "      <th>smoothness_mean<\/th>\n",
       "      <th>compactness_mean<\/th>\n",
       "      <th>concavity_mean<\/th>\n",
       "      <th>concave points_mean<\/th>\n",
       "      <th>...<\/th>\n",
       "      <th>texture_worst<\/th>\n",
       "      <th>perimeter_worst<\/th>\n",
       "      <th>area_worst<\/th>\n",
       "      <th>smoothness_worst<\/th>\n",
       "      <th>compactness_worst<\/th>\n",
       "      <th>concavity_worst<\/th>\n",
       "      <th>concave points_worst<\/th>\n",
       "      <th>symmetry_worst<\/th>\n",
       "      <th>fractal_dimension_worst<\/th>\n",
       "      <th>Unnamed: 32<\/th>\n",
       "    <\/tr>\n",
       "  <\/thead>\n",
       "  <tbody>\n",
       "    <tr>\n",
       "      <th>0<\/th>\n",
       "      <td>842302<\/td>\n",
       "      <td>M<\/td>\n",
       "      <td>17.99<\/td>\n",
       "      <td>10.38<\/td>\n",
       "      <td>122.80<\/td>\n",
       "      <td>1001.0<\/td>\n",
       "      <td>0.11840<\/td>\n",
       "      <td>0.27760<\/td>\n",
       "      <td>0.3001<\/td>\n",
       "      <td>0.14710<\/td>\n",
       "      <td>...<\/td>\n",
       "      <td>17.33<\/td>\n",
       "      <td>184.60<\/td>\n",
       "      <td>2019.0<\/td>\n",
       "      <td>0.1622<\/td>\n",
       "      <td>0.6656<\/td>\n",
       "      <td>0.7119<\/td>\n",
       "      <td>0.2654<\/td>\n",
       "      <td>0.4601<\/td>\n",
       "      <td>0.11890<\/td>\n",
       "      <td>NaN<\/td>\n",
       "    <\/tr>\n",
       "    <tr>\n",
       "      <th>1<\/th>\n",
       "      <td>842517<\/td>\n",
       "      <td>M<\/td>\n",
       "      <td>20.57<\/td>\n",
       "      <td>17.77<\/td>\n",
       "      <td>132.90<\/td>\n",
       "      <td>1326.0<\/td>\n",
       "      <td>0.08474<\/td>\n",
       "      <td>0.07864<\/td>\n",
       "      <td>0.0869<\/td>\n",
       "      <td>0.07017<\/td>\n",
       "      <td>...<\/td>\n",
       "      <td>23.41<\/td>\n",
       "      <td>158.80<\/td>\n",
       "      <td>1956.0<\/td>\n",
       "      <td>0.1238<\/td>\n",
       "      <td>0.1866<\/td>\n",
       "      <td>0.2416<\/td>\n",
       "      <td>0.1860<\/td>\n",
       "      <td>0.2750<\/td>\n",
       "      <td>0.08902<\/td>\n",
       "      <td>NaN<\/td>\n",
       "    <\/tr>\n",
       "    <tr>\n",
       "      <th>2<\/th>\n",
       "      <td>84300903<\/td>\n",
       "      <td>M<\/td>\n",
       "      <td>19.69<\/td>\n",
       "      <td>21.25<\/td>\n",
       "      <td>130.00<\/td>\n",
       "      <td>1203.0<\/td>\n",
       "      <td>0.10960<\/td>\n",
       "      <td>0.15990<\/td>\n",
       "      <td>0.1974<\/td>\n",
       "      <td>0.12790<\/td>\n",
       "      <td>...<\/td>\n",
       "      <td>25.53<\/td>\n",
       "      <td>152.50<\/td>\n",
       "      <td>1709.0<\/td>\n",
       "      <td>0.1444<\/td>\n",
       "      <td>0.4245<\/td>\n",
       "      <td>0.4504<\/td>\n",
       "      <td>0.2430<\/td>\n",
       "      <td>0.3613<\/td>\n",
       "      <td>0.08758<\/td>\n",
       "      <td>NaN<\/td>\n",
       "    <\/tr>\n",
       "    <tr>\n",
       "      <th>3<\/th>\n",
       "      <td>84348301<\/td>\n",
       "      <td>M<\/td>\n",
       "      <td>11.42<\/td>\n",
       "      <td>20.38<\/td>\n",
       "      <td>77.58<\/td>\n",
       "      <td>386.1<\/td>\n",
       "      <td>0.14250<\/td>\n",
       "      <td>0.28390<\/td>\n",
       "      <td>0.2414<\/td>\n",
       "      <td>0.10520<\/td>\n",
       "      <td>...<\/td>\n",
       "      <td>26.50<\/td>\n",
       "      <td>98.87<\/td>\n",
       "      <td>567.7<\/td>\n",
       "      <td>0.2098<\/td>\n",
       "      <td>0.8663<\/td>\n",
       "      <td>0.6869<\/td>\n",
       "      <td>0.2575<\/td>\n",
       "      <td>0.6638<\/td>\n",
       "      <td>0.17300<\/td>\n",
       "      <td>NaN<\/td>\n",
       "    <\/tr>\n",
       "    <tr>\n",
       "      <th>4<\/th>\n",
       "      <td>84358402<\/td>\n",
       "      <td>M<\/td>\n",
       "      <td>20.29<\/td>\n",
       "      <td>14.34<\/td>\n",
       "      <td>135.10<\/td>\n",
       "      <td>1297.0<\/td>\n",
       "      <td>0.10030<\/td>\n",
       "      <td>0.13280<\/td>\n",
       "      <td>0.1980<\/td>\n",
       "      <td>0.10430<\/td>\n",
       "      <td>...<\/td>\n",
       "      <td>16.67<\/td>\n",
       "      <td>152.20<\/td>\n",
       "      <td>1575.0<\/td>\n",
       "      <td>0.1374<\/td>\n",
       "      <td>0.2050<\/td>\n",
       "      <td>0.4000<\/td>\n",
       "      <td>0.1625<\/td>\n",
       "      <td>0.2364<\/td>\n",
       "      <td>0.07678<\/td>\n",
       "      <td>NaN<\/td>\n",
       "    <\/tr>\n",
       "  <\/tbody>\n",
       "<\/table>\n",
       "<p>5 rows × 33 columns<\/p>\n",
       "<\/div>"
      ]
     },
     "metadata":{
      
     },
     "output_type":"display_data"
    }
   ],
   "metadata":{
    "datalore":{
     "node_id":"7INaUvTVanFRcrM2OorC2j",
     "type":"CODE",
     "hide_input_from_viewers":false,
     "hide_output_from_viewers":false,
     "report_properties":{
      "rowId":"42vRyoKLicAlmvTemsf803"
     }
    }
   }
  },
  {
   "cell_type":"code",
   "source":[
    "df.info()"
   ],
   "execution_count":4,
   "outputs":[
    {
     "name":"stdout",
     "text":[
      "<class 'pandas.core.frame.DataFrame'>\n",
      "RangeIndex: 569 entries, 0 to 568\n",
      "Data columns (total 33 columns):\n",
      " #   Column                   Non-Null Count  Dtype  \n",
      "---  ------                   --------------  -----  \n",
      " 0   id                       569 non-null    int64  \n",
      " 1   diagnosis                569 non-null    object \n",
      " 2   radius_mean              569 non-null    float64\n",
      " 3   texture_mean             569 non-null    float64\n",
      " 4   perimeter_mean           569 non-null    float64\n",
      " 5   area_mean                569 non-null    float64\n",
      " 6   smoothness_mean          569 non-null    float64\n",
      " 7   compactness_mean         569 non-null    float64\n",
      " 8   concavity_mean           569 non-null    float64\n",
      " 9   concave points_mean      569 non-null    float64\n",
      " 10  symmetry_mean            569 non-null    float64\n",
      " 11  fractal_dimension_mean   569 non-null    float64\n",
      " 12  radius_se                569 non-null    float64\n",
      " 13  texture_se               569 non-null    float64\n",
      " 14  perimeter_se             569 non-null    float64\n",
      " 15  area_se                  569 non-null    float64\n",
      " 16  smoothness_se            569 non-null    float64\n",
      " 17  compactness_se           569 non-null    float64\n",
      " 18  concavity_se             569 non-null    float64\n",
      " 19  concave points_se        569 non-null    float64\n",
      " 20  symmetry_se              569 non-null    float64\n",
      " 21  fractal_dimension_se     569 non-null    float64\n",
      " 22  radius_worst             569 non-null    float64\n",
      " 23  texture_worst            569 non-null    float64\n",
      " 24  perimeter_worst          569 non-null    float64\n",
      " 25  area_worst               569 non-null    float64\n",
      " 26  smoothness_worst         569 non-null    float64\n",
      " 27  compactness_worst        569 non-null    float64\n",
      " 28  concavity_worst          569 non-null    float64\n",
      " 29  concave points_worst     569 non-null    float64\n",
      " 30  symmetry_worst           569 non-null    float64\n",
      " 31  fractal_dimension_worst  569 non-null    float64\n",
      " 32  Unnamed: 32              0 non-null      float64\n",
      "dtypes: float64(31), int64(1), object(1)\n",
      "memory usage: 146.8+ KB\n"
     ],
     "output_type":"stream"
    }
   ],
   "metadata":{
    "datalore":{
     "node_id":"LqfjQ2kOATNRHcSIhYPz13",
     "type":"CODE",
     "hide_input_from_viewers":false,
     "hide_output_from_viewers":false,
     "report_properties":{
      "rowId":"zEH8c9cePnzUjwaIPPPHP3"
     }
    }
   }
  },
  {
   "cell_type":"code",
   "source":[
    "print(df['diagnosis'].unique())\n",
    "del df['Unnamed: 32']\n",
    "del df['id']\n",
    "print(df.shape)"
   ],
   "execution_count":5,
   "outputs":[
    {
     "name":"stdout",
     "text":[
      "['M' 'B']\n",
      "(569, 31)\n"
     ],
     "output_type":"stream"
    }
   ],
   "metadata":{
    "datalore":{
     "node_id":"3nN0i5CHQQpbL3a7GpAWuw",
     "type":"CODE",
     "hide_input_from_viewers":false,
     "hide_output_from_viewers":false,
     "report_properties":{
      "rowId":"vNsW8yFWZYvNPprjFzwe8I"
     }
    }
   }
  },
  {
   "cell_type":"code",
   "source":[
    "# Normalizar columna diagnosis\n",
    "df['diagnosis'] = df['diagnosis'].replace(['M','B'], [1,0])\n",
    "print(df['diagnosis'].unique())\n",
    "print(df.shape)"
   ],
   "execution_count":6,
   "outputs":[
    {
     "name":"stdout",
     "text":[
      "[1 0]\n",
      "(569, 31)\n"
     ],
     "output_type":"stream"
    }
   ],
   "metadata":{
    "datalore":{
     "node_id":"jK4XILWArtsLVWBilvw4dj",
     "type":"CODE",
     "hide_input_from_viewers":false,
     "hide_output_from_viewers":false,
     "report_properties":{
      "rowId":"mAT2pCDshNVNL4ltzeATz2"
     }
    }
   }
  },
  {
   "cell_type":"code",
   "source":[
    "\n",
    "scaler = MinMaxScaler()\n",
    "df_norm = pd.DataFrame(scaler.fit_transform(df), columns=df.columns)\n",
    "df_norm.head()"
   ],
   "execution_count":7,
   "outputs":[
    {
     "data":{
      "text\/html":[
       "<div>\n",
       "<style scoped>\n",
       "    .dataframe tbody tr th:only-of-type {\n",
       "        vertical-align: middle;\n",
       "    }\n",
       "\n",
       "    .dataframe tbody tr th {\n",
       "        vertical-align: top;\n",
       "    }\n",
       "\n",
       "    .dataframe thead th {\n",
       "        text-align: right;\n",
       "    }\n",
       "<\/style>\n",
       "<table border=\"1\" class=\"dataframe\">\n",
       "  <thead>\n",
       "    <tr style=\"text-align: right;\">\n",
       "      <th><\/th>\n",
       "      <th>diagnosis<\/th>\n",
       "      <th>radius_mean<\/th>\n",
       "      <th>texture_mean<\/th>\n",
       "      <th>perimeter_mean<\/th>\n",
       "      <th>area_mean<\/th>\n",
       "      <th>smoothness_mean<\/th>\n",
       "      <th>compactness_mean<\/th>\n",
       "      <th>concavity_mean<\/th>\n",
       "      <th>concave points_mean<\/th>\n",
       "      <th>symmetry_mean<\/th>\n",
       "      <th>...<\/th>\n",
       "      <th>radius_worst<\/th>\n",
       "      <th>texture_worst<\/th>\n",
       "      <th>perimeter_worst<\/th>\n",
       "      <th>area_worst<\/th>\n",
       "      <th>smoothness_worst<\/th>\n",
       "      <th>compactness_worst<\/th>\n",
       "      <th>concavity_worst<\/th>\n",
       "      <th>concave points_worst<\/th>\n",
       "      <th>symmetry_worst<\/th>\n",
       "      <th>fractal_dimension_worst<\/th>\n",
       "    <\/tr>\n",
       "  <\/thead>\n",
       "  <tbody>\n",
       "    <tr>\n",
       "      <th>0<\/th>\n",
       "      <td>1.0<\/td>\n",
       "      <td>0.521037<\/td>\n",
       "      <td>0.022658<\/td>\n",
       "      <td>0.545989<\/td>\n",
       "      <td>0.363733<\/td>\n",
       "      <td>0.593753<\/td>\n",
       "      <td>0.792037<\/td>\n",
       "      <td>0.703140<\/td>\n",
       "      <td>0.731113<\/td>\n",
       "      <td>0.686364<\/td>\n",
       "      <td>...<\/td>\n",
       "      <td>0.620776<\/td>\n",
       "      <td>0.141525<\/td>\n",
       "      <td>0.668310<\/td>\n",
       "      <td>0.450698<\/td>\n",
       "      <td>0.601136<\/td>\n",
       "      <td>0.619292<\/td>\n",
       "      <td>0.568610<\/td>\n",
       "      <td>0.912027<\/td>\n",
       "      <td>0.598462<\/td>\n",
       "      <td>0.418864<\/td>\n",
       "    <\/tr>\n",
       "    <tr>\n",
       "      <th>1<\/th>\n",
       "      <td>1.0<\/td>\n",
       "      <td>0.643144<\/td>\n",
       "      <td>0.272574<\/td>\n",
       "      <td>0.615783<\/td>\n",
       "      <td>0.501591<\/td>\n",
       "      <td>0.289880<\/td>\n",
       "      <td>0.181768<\/td>\n",
       "      <td>0.203608<\/td>\n",
       "      <td>0.348757<\/td>\n",
       "      <td>0.379798<\/td>\n",
       "      <td>...<\/td>\n",
       "      <td>0.606901<\/td>\n",
       "      <td>0.303571<\/td>\n",
       "      <td>0.539818<\/td>\n",
       "      <td>0.435214<\/td>\n",
       "      <td>0.347553<\/td>\n",
       "      <td>0.154563<\/td>\n",
       "      <td>0.192971<\/td>\n",
       "      <td>0.639175<\/td>\n",
       "      <td>0.233590<\/td>\n",
       "      <td>0.222878<\/td>\n",
       "    <\/tr>\n",
       "    <tr>\n",
       "      <th>2<\/th>\n",
       "      <td>1.0<\/td>\n",
       "      <td>0.601496<\/td>\n",
       "      <td>0.390260<\/td>\n",
       "      <td>0.595743<\/td>\n",
       "      <td>0.449417<\/td>\n",
       "      <td>0.514309<\/td>\n",
       "      <td>0.431017<\/td>\n",
       "      <td>0.462512<\/td>\n",
       "      <td>0.635686<\/td>\n",
       "      <td>0.509596<\/td>\n",
       "      <td>...<\/td>\n",
       "      <td>0.556386<\/td>\n",
       "      <td>0.360075<\/td>\n",
       "      <td>0.508442<\/td>\n",
       "      <td>0.374508<\/td>\n",
       "      <td>0.483590<\/td>\n",
       "      <td>0.385375<\/td>\n",
       "      <td>0.359744<\/td>\n",
       "      <td>0.835052<\/td>\n",
       "      <td>0.403706<\/td>\n",
       "      <td>0.213433<\/td>\n",
       "    <\/tr>\n",
       "    <tr>\n",
       "      <th>3<\/th>\n",
       "      <td>1.0<\/td>\n",
       "      <td>0.210090<\/td>\n",
       "      <td>0.360839<\/td>\n",
       "      <td>0.233501<\/td>\n",
       "      <td>0.102906<\/td>\n",
       "      <td>0.811321<\/td>\n",
       "      <td>0.811361<\/td>\n",
       "      <td>0.565604<\/td>\n",
       "      <td>0.522863<\/td>\n",
       "      <td>0.776263<\/td>\n",
       "      <td>...<\/td>\n",
       "      <td>0.248310<\/td>\n",
       "      <td>0.385928<\/td>\n",
       "      <td>0.241347<\/td>\n",
       "      <td>0.094008<\/td>\n",
       "      <td>0.915472<\/td>\n",
       "      <td>0.814012<\/td>\n",
       "      <td>0.548642<\/td>\n",
       "      <td>0.884880<\/td>\n",
       "      <td>1.000000<\/td>\n",
       "      <td>0.773711<\/td>\n",
       "    <\/tr>\n",
       "    <tr>\n",
       "      <th>4<\/th>\n",
       "      <td>1.0<\/td>\n",
       "      <td>0.629893<\/td>\n",
       "      <td>0.156578<\/td>\n",
       "      <td>0.630986<\/td>\n",
       "      <td>0.489290<\/td>\n",
       "      <td>0.430351<\/td>\n",
       "      <td>0.347893<\/td>\n",
       "      <td>0.463918<\/td>\n",
       "      <td>0.518390<\/td>\n",
       "      <td>0.378283<\/td>\n",
       "      <td>...<\/td>\n",
       "      <td>0.519744<\/td>\n",
       "      <td>0.123934<\/td>\n",
       "      <td>0.506948<\/td>\n",
       "      <td>0.341575<\/td>\n",
       "      <td>0.437364<\/td>\n",
       "      <td>0.172415<\/td>\n",
       "      <td>0.319489<\/td>\n",
       "      <td>0.558419<\/td>\n",
       "      <td>0.157500<\/td>\n",
       "      <td>0.142595<\/td>\n",
       "    <\/tr>\n",
       "  <\/tbody>\n",
       "<\/table>\n",
       "<p>5 rows × 31 columns<\/p>\n",
       "<\/div>"
      ]
     },
     "metadata":{
      
     },
     "output_type":"display_data"
    }
   ],
   "metadata":{
    "datalore":{
     "node_id":"Cql7MuP6beFRMCQFpBWHgF",
     "type":"CODE",
     "hide_input_from_viewers":false,
     "hide_output_from_viewers":false,
     "report_properties":{
      "rowId":"FRDdEBrjXLXTYYVbJ0CPqP"
     }
    }
   }
  },
  {
   "cell_type":"code",
   "source":[
    "# Definir la etiqueta de salida y las variables predictoras\n",
    "X = df_norm.iloc[:, [1, 30]].values\n",
    "y = df_norm.iloc[:, 0].values\n",
    "y = y.reshape(y.size, 1)"
   ],
   "execution_count":8,
   "outputs":[
    
   ],
   "metadata":{
    "datalore":{
     "node_id":"yGs39e18yLTiLRWtaLTrJj",
     "type":"CODE",
     "hide_input_from_viewers":false,
     "hide_output_from_viewers":false,
     "report_properties":{
      "rowId":"mfFUHoWbLXgRlZUOsAUrok"
     }
    }
   }
  },
  {
   "cell_type":"code",
   "source":[
    "from sklearn.model_selection import train_test_split"
   ],
   "execution_count":9,
   "outputs":[
    
   ],
   "metadata":{
    "datalore":{
     "node_id":"ipPnhVMaRwSEKVYQ4VQEAe",
     "type":"CODE",
     "hide_input_from_viewers":false,
     "hide_output_from_viewers":false,
     "report_properties":{
      "rowId":"7ANU7rUCgyicnWgPhPFttt"
     }
    }
   }
  },
  {
   "cell_type":"code",
   "source":[
    "# Definir el conjunto de entrenamiento y el conjunto de prueba\n",
    "X_train, X_test, y_train, y_test = train_test_split(X, y, test_size=0.25)\n",
    "# usamos 25% de los datos para la prueba\n",
    "X_train.shape, X_test.shape, y_train.shape, y_test.shape"
   ],
   "execution_count":10,
   "outputs":[
    {
     "data":{
      "text\/plain":[
       "((426, 2), (143, 2), (426, 1), (143, 1))"
      ]
     },
     "metadata":{
      
     },
     "output_type":"display_data"
    }
   ],
   "metadata":{
    "datalore":{
     "node_id":"FgTH4zkVcQNTMu8S0RzDDc",
     "type":"CODE",
     "hide_input_from_viewers":false,
     "hide_output_from_viewers":false,
     "report_properties":{
      "rowId":"9kodQThuvz2DOKTGzzMxRb"
     }
    }
   }
  },
  {
   "cell_type":"code",
   "source":[
    "def tn(y_true, y_pred):\n",
    "    return confusion_matrix(y_true, y_pred)[0, 0]"
   ],
   "execution_count":11,
   "outputs":[
    
   ],
   "metadata":{
    "datalore":{
     "node_id":"UwiQ7Cs54TkRbaqZZoNjUg",
     "type":"CODE",
     "hide_input_from_viewers":false,
     "hide_output_from_viewers":false,
     "report_properties":{
      "rowId":"tkZZxnes3Ol3aOUe9RPJyS"
     }
    }
   }
  },
  {
   "cell_type":"code",
   "source":[
    "def fp(y_true, y_pred):\n",
    "    return confusion_matrix(y_true, y_pred)[0, 1]"
   ],
   "execution_count":12,
   "outputs":[
    
   ],
   "metadata":{
    "datalore":{
     "node_id":"ARqWBj9vgglTUkvtEqv1Fg",
     "type":"CODE",
     "hide_input_from_viewers":false,
     "hide_output_from_viewers":false,
     "report_properties":{
      "rowId":"0CjFxRlrBulZy2koomh6xZ"
     }
    }
   }
  },
  {
   "cell_type":"code",
   "source":[
    "def fn(y_true, y_pred):\n",
    "    return confusion_matrix(y_true, y_pred)[1, 0]"
   ],
   "execution_count":13,
   "outputs":[
    
   ],
   "metadata":{
    "datalore":{
     "node_id":"yPciSwOP1ifQeaz74pdRsI",
     "type":"CODE",
     "hide_input_from_viewers":false,
     "hide_output_from_viewers":false,
     "report_properties":{
      "rowId":"RZGe4hXHtfZGfPlySmcb2J"
     }
    }
   }
  },
  {
   "cell_type":"code",
   "source":[
    "def tp(y_true, y_pred):\n",
    "    return confusion_matrix(y_true, y_pred)[1, 1]"
   ],
   "execution_count":14,
   "outputs":[
    
   ],
   "metadata":{
    "datalore":{
     "node_id":"7hplHTkvBuNr7vjm70Puol",
     "type":"CODE",
     "hide_input_from_viewers":false,
     "hide_output_from_viewers":false,
     "report_properties":{
      "rowId":"6FIFLBsXpfDhiQkG1R106z"
     }
    }
   }
  },
  {
   "cell_type":"code",
   "source":[
    "def accuracy(y_true, y_pred):\n",
    "    cnf_matrix = confusion_matrix(y_true, y_pred)\n",
    "    N = sum(map(sum, cnf_matrix))\n",
    "    tp = cnf_matrix[1, 1]\n",
    "    tn = cnf_matrix[0, 0]\n",
    "    return round((tp + tn) \/ N, 2)"
   ],
   "execution_count":15,
   "outputs":[
    
   ],
   "metadata":{
    "datalore":{
     "node_id":"hXNvBzeM5peXcNArBBzX6d",
     "type":"CODE",
     "hide_input_from_viewers":false,
     "hide_output_from_viewers":false,
     "report_properties":{
      "rowId":"SqVoNhwLjsOoTEQWXzblVK"
     }
    }
   }
  },
  {
   "cell_type":"code",
   "source":[
    "def acc(y_true, y_pred):\n",
    "    return accuracy(y_true, y_pred)"
   ],
   "execution_count":16,
   "outputs":[
    
   ],
   "metadata":{
    "datalore":{
     "node_id":"cOPmwcJOBR0dodR0oZ800L",
     "type":"CODE",
     "hide_input_from_viewers":false,
     "hide_output_from_viewers":false,
     "report_properties":{
      "rowId":"3jNju9PGMFE4tWFUzaugY1"
     }
    }
   }
  },
  {
   "cell_type":"code",
   "source":[
    "# Propósito de la validación cruzada\n",
    "scoring = {'accuracy': make_scorer(metrics.accuracy_score), 'prec': 'precision'}\n",
    "scoring = {'tp': make_scorer(tp), 'tn': make_scorer(tn),\n",
    "           'fp': make_scorer(fp), 'fn': make_scorer(fn),\n",
    "           'acc': make_scorer(acc)}"
   ],
   "execution_count":17,
   "outputs":[
    
   ],
   "metadata":{
    "datalore":{
     "node_id":"M49TJSIQOXlFzyY3JuKyoQ",
     "type":"CODE",
     "hide_input_from_viewers":false,
     "hide_output_from_viewers":false,
     "report_properties":{
      "rowId":"kNM7YVzv1JAjjIzzWt9vgg"
     }
    }
   }
  },
  {
   "cell_type":"code",
   "source":[
    "def print_result(result):\n",
    "    print(\"True Positive: \", result['test_tp'])\n",
    "    print(\"True Negative: \", result['test_tn'])\n",
    "    print(\"False Negative: \", result['test_fn'])\n",
    "    print(\"False Positive: \", result['test_fp'])\n",
    "    print(\"Accuracy: \", result['test_acc'])"
   ],
   "execution_count":18,
   "outputs":[
    
   ],
   "metadata":{
    "datalore":{
     "node_id":"2zuoJ5AMz2DmoKIbthUhxr",
     "type":"CODE",
     "hide_input_from_viewers":false,
     "hide_output_from_viewers":false,
     "report_properties":{
      "rowId":"F9kRlNW7D4JQ2A7cyIG6lZ"
     }
    }
   }
  },
  {
   "cell_type":"code",
   "source":[
    "# Lista alamcenada de las acc y rcc de las salidas de cada modelo\n",
    "acc = []\n",
    "roc = []"
   ],
   "execution_count":19,
   "outputs":[
    
   ],
   "metadata":{
    "datalore":{
     "node_id":"3KXA6BKsrsPMYP7dCNcN5Z",
     "type":"CODE",
     "hide_input_from_viewers":false,
     "hide_output_from_viewers":false,
     "report_properties":{
      "rowId":"c7uL5Jz8K3oYfHdL2hpQbz"
     }
    }
   }
  },
  {
   "cell_type":"code",
   "source":[
    "# Modelo - Random Forest\n",
    "model = RandomForestClassifier(n_estimators=20, max_depth=10)\n",
    "model.fit(X_train, y_train)\n",
    "y_pred = model.predict(X_test)\n",
    "y_pred_train = model.predict(X_train)"
   ],
   "execution_count":20,
   "outputs":[
    {
     "name":"stderr",
     "text":[
      "<ipython-input-20-fb2d43f20f21>:3: DataConversionWarning: A column-vector y was passed when a 1d array was expected. Please change the shape of y to (n_samples,), for example using ravel().\n",
      "  model.fit(X_train, y_train)\n"
     ],
     "output_type":"stream"
    }
   ],
   "metadata":{
    "datalore":{
     "node_id":"F6TrE0skNjoCjnyruFKVDs",
     "type":"CODE",
     "hide_input_from_viewers":false,
     "hide_output_from_viewers":false,
     "report_properties":{
      "rowId":"dtdMzzagXb0D4ecOTxMDRC"
     }
    }
   }
  },
  {
   "cell_type":"code",
   "source":[
    "ac = accuracy_score(y_test, y_pred)\n",
    "acc.append(ac)\n",
    "ac_train = accuracy_score(y_train, y_pred_train)\n",
    "rc = roc_auc_score(y_test, y_pred)\n",
    "roc.append(rc)\n",
    "print(\"****************************************************\")\n",
    "print(\"Random Forest : \")\n",
    "print (\"Accuracy:\", accuracy_score(y_test, y_pred))\n",
    "print (\"F1 score:\", f1_score(y_test, y_pred))\n",
    "print (\"Recall:\", recall_score(y_test, y_pred))\n",
    "print (\"Precision:\", precision_score(y_test, y_pred))\n",
    "print (\"\\n confussion matrix:\\n\",confusion_matrix(y_test, y_pred))"
   ],
   "execution_count":21,
   "outputs":[
    {
     "name":"stdout",
     "text":[
      "****************************************************\n",
      "Random Forest : \n",
      "Accuracy: 0.9230769230769231\n",
      "F1 score: 0.8990825688073394\n",
      "Recall: 0.8909090909090909\n",
      "Precision: 0.9074074074074074\n",
      "\n",
      " confussion matrix:\n",
      " [[83  5]\n",
      " [ 6 49]]\n"
     ],
     "output_type":"stream"
    }
   ],
   "metadata":{
    "datalore":{
     "node_id":"VEz3ojngwcP0hUd8N6KBRb",
     "type":"CODE",
     "hide_input_from_viewers":false,
     "hide_output_from_viewers":false,
     "report_properties":{
      "rowId":"KvliG4HBfQVaXZ2AxlE48z"
     }
    }
   }
  }
 ],
 "metadata":{
  "kernelspec":{
   "display_name":"Python",
   "language":"python",
   "name":"python"
  },
  "datalore":{
   "computation_mode":"JUPYTER",
   "package_manager":"pip",
   "base_environment":"default",
   "packages":[
    
   ],
   "report_row_ids":[
    "snVb4Uqk0COTOorGXys84J",
    "jSoDk0bHmd1eKlpytI9B7W",
    "42vRyoKLicAlmvTemsf803",
    "zEH8c9cePnzUjwaIPPPHP3",
    "vNsW8yFWZYvNPprjFzwe8I",
    "mAT2pCDshNVNL4ltzeATz2",
    "FRDdEBrjXLXTYYVbJ0CPqP",
    "mfFUHoWbLXgRlZUOsAUrok",
    "7ANU7rUCgyicnWgPhPFttt",
    "9kodQThuvz2DOKTGzzMxRb",
    "tkZZxnes3Ol3aOUe9RPJyS",
    "0CjFxRlrBulZy2koomh6xZ",
    "RZGe4hXHtfZGfPlySmcb2J",
    "6FIFLBsXpfDhiQkG1R106z",
    "SqVoNhwLjsOoTEQWXzblVK",
    "3jNju9PGMFE4tWFUzaugY1",
    "kNM7YVzv1JAjjIzzWt9vgg",
    "F9kRlNW7D4JQ2A7cyIG6lZ",
    "c7uL5Jz8K3oYfHdL2hpQbz",
    "dtdMzzagXb0D4ecOTxMDRC",
    "KvliG4HBfQVaXZ2AxlE48z"
   ],
   "version":3
  }
 },
 "nbformat":4,
 "nbformat_minor":4
}