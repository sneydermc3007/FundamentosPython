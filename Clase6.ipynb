{
 "cells":[
  {
   "cell_type":"markdown",
   "source":[
    "# Substrings"
   ],
   "attachments":{
    
   },
   "metadata":{
    "datalore":{
     "node_id":"2lTSCAdlGWw56gIPNDcmbd",
     "type":"MD",
     "hide_input_from_viewers":false,
     "hide_output_from_viewers":false
    }
   }
  },
  {
   "cell_type":"code",
   "source":[
    "string = \"0123456789\"\n",
    "substring = \"\"\n",
    "\n",
    "print(f\"Cadena principal: {string}\")\n",
    "\n",
    "substring = string[0]\n",
    "print(f\"\\nSubcadena con indice en la posición [0] es: {substring}\")\n",
    "\n",
    "substring = string[5]\n",
    "print(f\"\\nSubcadena con indice en la posición [5] es: {substring}\")\n",
    "\n",
    "substring = string[-4]\n",
    "print(f\"\\nSubcadena con indice en la posición [-4] es: {substring}\")\n",
    "\n",
    "substring = string[0:3]\n",
    "print(f\"\\nSubcadena con indices en las posiciones [0:3] es: {substring}\")\n",
    "\n",
    "substring = string[:3]\n",
    "print(f\"\\nSubcadena con indices en las posiciones [:3] es: {substring}\")\n",
    "\n",
    "substring = string[5:]\n",
    "print(f\"\\nSubcadena con indices en las posiciones [5:] es: {substring}\")\n",
    "\n",
    "substring = string[-4:-1]\n",
    "print(f\"\\nSubcadena con indices en las posiciones [-4:-1] es: {substring}\")\n",
    "\n",
    "substring = string[:]\n",
    "print(f\"\\nSubcadena con indices en las posiciones [:] es: {substring}\")\n",
    "\n",
    "substring = string[1:6:2]\n",
    "print(f\"\\nSubcadena con indices en las posiciones y salto [1:6:2] es: {substring}\")\n",
    "\n",
    "substring = string[::3]\n",
    "print(f\"\\nSubcadena con indices en las posiciones y salto [::3] es: {substring}\")"
   ],
   "execution_count":null,
   "outputs":[
    
   ],
   "metadata":{
    "datalore":{
     "node_id":"6T7Df2vJWhRVG9BaQK0MNS",
     "type":"CODE",
     "hide_input_from_viewers":false,
     "hide_output_from_viewers":false
    }
   }
  }
 ],
 "metadata":{
  "kernelspec":{
   "display_name":"Python",
   "language":"python",
   "name":"python"
  },
  "datalore":{
   "version":1,
   "computation_mode":"JUPYTER",
   "package_manager":"pip",
   "base_environment":"default",
   "packages":[
    
   ]
  }
 },
 "nbformat":4,
 "nbformat_minor":4
}